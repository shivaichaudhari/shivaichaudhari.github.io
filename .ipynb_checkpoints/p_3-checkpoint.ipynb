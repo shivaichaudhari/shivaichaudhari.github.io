{
 "cells": [
  {
   "cell_type": "markdown",
   "id": "d27be503",
   "metadata": {},
   "source": [
    "# 1994 USA Census Data"
   ]
  },
  {
   "cell_type": "markdown",
   "id": "4eba37c5",
   "metadata": {},
   "source": [
    "### Import libraries"
   ]
  },
  {
   "cell_type": "code",
   "execution_count": 1,
   "id": "9efda64f",
   "metadata": {},
   "outputs": [],
   "source": [
    "import seaborn as sns\n",
    "import pandas as pd\n",
    "import numpy as np\n",
    "import matplotlib.pyplot as plt\n"
   ]
  },
  {
   "cell_type": "code",
   "execution_count": 2,
   "id": "7f852541",
   "metadata": {},
   "outputs": [],
   "source": [
    "pd.set_option('display.max_rows', 500)\n",
    "pd.set_option('display.max_columns', 500)\n",
    "pd.set_option('display.width', 1000)\n",
    "np.set_printoptions(suppress=True) "
   ]
  },
  {
   "cell_type": "markdown",
   "id": "469db436",
   "metadata": {},
   "source": [
    "### Read data"
   ]
  },
  {
   "cell_type": "code",
   "execution_count": 4,
   "id": "f2a8d056",
   "metadata": {},
   "outputs": [
    {
     "name": "stdout",
     "output_type": "stream",
     "text": [
      "(32561, 15)\n"
     ]
    },
    {
     "data": {
      "text/html": [
       "<div>\n",
       "<style scoped>\n",
       "    .dataframe tbody tr th:only-of-type {\n",
       "        vertical-align: middle;\n",
       "    }\n",
       "\n",
       "    .dataframe tbody tr th {\n",
       "        vertical-align: top;\n",
       "    }\n",
       "\n",
       "    .dataframe thead th {\n",
       "        text-align: right;\n",
       "    }\n",
       "</style>\n",
       "<table border=\"1\" class=\"dataframe\">\n",
       "  <thead>\n",
       "    <tr style=\"text-align: right;\">\n",
       "      <th></th>\n",
       "      <th>age</th>\n",
       "      <th>workclass</th>\n",
       "      <th>fnlwgt</th>\n",
       "      <th>education</th>\n",
       "      <th>education-num</th>\n",
       "      <th>marital-status</th>\n",
       "      <th>occupation</th>\n",
       "      <th>relationship</th>\n",
       "      <th>race</th>\n",
       "      <th>gender</th>\n",
       "      <th>capital-gain</th>\n",
       "      <th>capital-loss</th>\n",
       "      <th>hours-per-week</th>\n",
       "      <th>native-country</th>\n",
       "      <th>income-cat</th>\n",
       "    </tr>\n",
       "  </thead>\n",
       "  <tbody>\n",
       "    <tr>\n",
       "      <th>0</th>\n",
       "      <td>39</td>\n",
       "      <td>State-gov</td>\n",
       "      <td>77516</td>\n",
       "      <td>Bachelors</td>\n",
       "      <td>13</td>\n",
       "      <td>Never-married</td>\n",
       "      <td>Adm-clerical</td>\n",
       "      <td>Not-in-family</td>\n",
       "      <td>White</td>\n",
       "      <td>Male</td>\n",
       "      <td>2174</td>\n",
       "      <td>0</td>\n",
       "      <td>40</td>\n",
       "      <td>United-States</td>\n",
       "      <td>&lt;=50K</td>\n",
       "    </tr>\n",
       "    <tr>\n",
       "      <th>1</th>\n",
       "      <td>50</td>\n",
       "      <td>Self-emp-not-inc</td>\n",
       "      <td>83311</td>\n",
       "      <td>Bachelors</td>\n",
       "      <td>13</td>\n",
       "      <td>Married-civ-spouse</td>\n",
       "      <td>Exec-managerial</td>\n",
       "      <td>Husband</td>\n",
       "      <td>White</td>\n",
       "      <td>Male</td>\n",
       "      <td>0</td>\n",
       "      <td>0</td>\n",
       "      <td>13</td>\n",
       "      <td>United-States</td>\n",
       "      <td>&lt;=50K</td>\n",
       "    </tr>\n",
       "  </tbody>\n",
       "</table>\n",
       "</div>"
      ],
      "text/plain": [
       "   age          workclass  fnlwgt   education  education-num       marital-status        occupation    relationship    race gender  capital-gain  capital-loss  hours-per-week  native-country income-cat\n",
       "0   39          State-gov   77516   Bachelors             13        Never-married      Adm-clerical   Not-in-family   White   Male          2174             0              40   United-States      <=50K\n",
       "1   50   Self-emp-not-inc   83311   Bachelors             13   Married-civ-spouse   Exec-managerial         Husband   White   Male             0             0              13   United-States      <=50K"
      ]
     },
     "execution_count": 4,
     "metadata": {},
     "output_type": "execute_result"
    }
   ],
   "source": [
    "\n",
    "# Step-1: Copy and paste the path to that file below within quotes to variable 'path'\n",
    "#path = '-add your path here-'\n",
    "adult = pd.read_csv(path + 'adult.data', sep=',', header=None, engine='python')\n",
    "\n",
    "cols = ['age', 'workclass', 'fnlwgt', 'education', 'education-num', 'marital-status',\n",
    "        'occupation','relationship','race','gender', 'capital-gain',\n",
    "        'capital-loss','hours-per-week','native-country','income-cat']\n",
    "\n",
    "adult.columns = cols\n",
    "\n",
    "# Step-4: Look at the first five records using .head()\n",
    "print(adult.shape)\n",
    "adult.head(2)\n"
   ]
  },
  {
   "cell_type": "markdown",
   "id": "a2c5948d",
   "metadata": {},
   "source": [
    "### Data exploration"
   ]
  },
  {
   "cell_type": "code",
   "execution_count": 5,
   "id": "c9037f08",
   "metadata": {},
   "outputs": [
    {
     "name": "stdout",
     "output_type": "stream",
     "text": [
      "Number of rows: 32561\n",
      "Number of columns: 15 \n",
      "\n",
      "Data types:\n",
      " age                int64\n",
      "workclass         object\n",
      "fnlwgt             int64\n",
      "education         object\n",
      "education-num      int64\n",
      "marital-status    object\n",
      "occupation        object\n",
      "relationship      object\n",
      "race              object\n",
      "gender            object\n",
      "capital-gain       int64\n",
      "capital-loss       int64\n",
      "hours-per-week     int64\n",
      "native-country    object\n",
      "income-cat        object\n",
      "dtype: object \n",
      "\n",
      "Missing values:\n",
      " age               0\n",
      "workclass         0\n",
      "fnlwgt            0\n",
      "education         0\n",
      "education-num     0\n",
      "marital-status    0\n",
      "occupation        0\n",
      "relationship      0\n",
      "race              0\n",
      "gender            0\n",
      "capital-gain      0\n",
      "capital-loss      0\n",
      "hours-per-week    0\n",
      "native-country    0\n",
      "income-cat        0\n",
      "dtype: int64\n",
      "\n",
      "Shape:\n",
      " (32561, 15)\n"
     ]
    }
   ],
   "source": [
    "# use dataframe 'adult' from Q#76\n",
    "# 0- Print the number of rows and columns in the dataframe\n",
    "# 1- Print type of data in each column\n",
    "# 2- Print the number of missing values in each column\n",
    "# 3- Check to see if any column has the same value in all rows. Drop column if it has the same value in all the rows\n",
    "# Hint: .unique()\n",
    "# Hint: use for loop \n",
    "# 4- Print shape of sea\n",
    "\n",
    "\n",
    "# ---\n",
    "\n",
    "# 0- Print the number of rows and columns in the dataframe\n",
    "print(\"Number of rows:\", adult.shape[0])\n",
    "print('Number of columns:', adult.shape[1],'\\n')\n",
    "\n",
    "# 1- Print type of data in each column\n",
    "print('Data types:\\n',adult.dtypes, '\\n')\n",
    "\n",
    "# 2- Print the number of missing values in each column\n",
    "print('Missing values:\\n', adult.isna().sum())\n",
    "\n",
    "# 3- Check to see if any column has the same value in all rows. Hint: .unique()\n",
    "for col in adult.columns:\n",
    "    num = adult[col].nunique()\n",
    "    if (num == 1):\n",
    "        adult = adult.drop(col, axis=1)\n",
    "        print(col + ' was dropped!')\n",
    "        \n",
    "# 4- Print shape of adult\n",
    "print('\\nShape:\\n', adult.shape)"
   ]
  },
  {
   "cell_type": "code",
   "execution_count": 6,
   "id": "096692e6",
   "metadata": {},
   "outputs": [],
   "source": [
    "# 1-\n",
    "# clean column names: remove spaces, replace hyphes with underscores \n",
    "\n",
    "# 2-\n",
    "# Strip leading and trailing spaces for values in column 'race'\n",
    "\n",
    "# 3-\n",
    "# Strip leading and trailing spaces for values in column 'gender'\n",
    "\n",
    "\n",
    "# 4-\n",
    "# Strip leading and trailing spaces for values in column 'income_cat'\n",
    "\n",
    "# 5-\n",
    "# Strip leading and trailing spaces for values in column 'education'\n",
    "\n",
    "\n",
    "# 6-\n",
    "# Strip leading and trailing spaces for values in column 'workclass'\n",
    "\n",
    "# 7-\n",
    "# Strip leading and trailing spaces for values in column 'marital_status'\n",
    "\n",
    "\n",
    "\n",
    "# --- \n",
    "\n",
    "# 1-\n",
    "cols = [col.strip().replace(\"-\", \"_\") for col in adult.columns]\n",
    "adult.columns = cols\n",
    "\n",
    "adult.head(2)\n",
    "\n",
    "# 2-\n",
    "adult['race'] = adult['race'].apply(lambda x: x.strip())\n",
    "\n",
    "# 3-\n",
    "adult['gender'] = adult['gender'].apply(lambda x: x.strip())\n",
    "\n",
    "# 4-\n",
    "adult['income_cat'] = adult['income_cat'].apply(lambda x: x.strip())\n",
    "\n",
    "# 5-\n",
    "adult['education'] = adult['education'].apply(lambda x: x.strip())\n",
    "\n",
    "# 6-\n",
    "adult['workclass'] = adult['workclass'].apply(lambda x: x.strip())\n",
    "\n",
    "# 7-\n",
    "adult['marital_status'] = adult['marital_status'].apply(lambda x: x.strip())\n"
   ]
  },
  {
   "cell_type": "code",
   "execution_count": 7,
   "id": "ae3cc366",
   "metadata": {
    "scrolled": false
   },
   "outputs": [
    {
     "data": {
      "image/png": "[encoded data removed]",
      "text/plain": [
       "<Figure size 432x288 with 1 Axes>"
      ]
     },
     "metadata": {
      "needs_background": "light"
     },
     "output_type": "display_data"
    },
    {
     "data": {
      "image/png": "[encoded data removed]",
      "text/plain": [
       "<Figure size 432x288 with 1 Axes>"
      ]
     },
     "metadata": {
      "needs_background": "light"
     },
     "output_type": "display_data"
    },
    {
     "data": {
      "image/png": "[encoded data removed]",
      "text/plain": [
       "<Figure size 432x288 with 1 Axes>"
      ]
     },
     "metadata": {
      "needs_background": "light"
     },
     "output_type": "display_data"
    },
    {
     "data": {
      "image/png": "[encoded data removed]",
      "text/plain": [
       "<Figure size 432x288 with 1 Axes>"
      ]
     },
     "metadata": {
      "needs_background": "light"
     },
     "output_type": "display_data"
    },
    {
     "data": {
      "image/png": "[encoded data removed]",
      "text/plain": [
       "<Figure size 432x288 with 1 Axes>"
      ]
     },
     "metadata": {
      "needs_background": "light"
     },
     "output_type": "display_data"
    },
    {
     "data": {
      "image/png": "[encoded data removed]",
      "text/plain": [
       "<Figure size 432x288 with 1 Axes>"
      ]
     },
     "metadata": {
      "needs_background": "light"
     },
     "output_type": "display_data"
    },
    {
     "data": {
      "image/png": "[encoded data removed]",
      "text/plain": [
       "<Figure size 432x288 with 1 Axes>"
      ]
     },
     "metadata": {
      "needs_background": "light"
     },
     "output_type": "display_data"
    },
    {
     "data": {
      "image/png": "[encoded data removed]",
      "text/plain": [
       "<Figure size 432x288 with 1 Axes>"
      ]
     },
     "metadata": {
      "needs_background": "light"
     },
     "output_type": "display_data"
    },
    {
     "data": {
      "image/png": "[encoded data removed]",
      "text/plain": [
       "<Figure size 432x288 with 1 Axes>"
      ]
     },
     "metadata": {
      "needs_background": "light"
     },
     "output_type": "display_data"
    },
    {
     "data": {
      "image/png": "[encoded data removed]",
      "text/plain": [
       "<Figure size 432x288 with 1 Axes>"
      ]
     },
     "metadata": {
      "needs_background": "light"
     },
     "output_type": "display_data"
    },
    {
     "data": {
      "image/png": "[encoded data removed]",
      "text/plain": [
       "<Figure size 432x288 with 1 Axes>"
      ]
     },
     "metadata": {
      "needs_background": "light"
     },
     "output_type": "display_data"
    },
    {
     "data": {
      "image/png": "[encoded data removed]",
      "text/plain": [
       "<Figure size 432x288 with 1 Axes>"
      ]
     },
     "metadata": {
      "needs_background": "light"
     },
     "output_type": "display_data"
    },
    {
     "data": {
      "image/png": "[encoded data removed]",
      "text/plain": [
       "<Figure size 432x288 with 1 Axes>"
      ]
     },
     "metadata": {
      "needs_background": "light"
     },
     "output_type": "display_data"
    }
   ],
   "source": [
    "# Histogram plot of distribution of variables below and comment.\n",
    "# 1- age\n",
    "# 2- education_num\n",
    "# 3- capital_gain\n",
    "# 4- hours_per_week\n",
    "\n",
    "# Bar plot of proportion of categories for variables below and comment:\n",
    "# Also save df for each below as given\n",
    "# 5- workclass --> df_workclass\n",
    "# 6- education --> df_education\n",
    "# 7- marital_status --> df_marital_status\n",
    "# 8- occupation --> df_occupation\n",
    "# 9- relatioship --> df_relatioship\n",
    "# 10- race --> df_race\n",
    "# 11- gender --> df_gender\n",
    "# 12- native_country --> df_native_country\n",
    "# 13- income_cat --> df_income_cat\n",
    "\n",
    "\n",
    "# --- \n",
    "\n",
    "# Function to plot histogram\n",
    "def plot_hist(df, var):\n",
    "    plt.hist(df[var])\n",
    "    plt.xlabel(var)\n",
    "    plt.ylabel('count')\n",
    "    plt.show()\n",
    "    \n",
    "    \n",
    "def plot_proportions(df, var):\n",
    "    # get proportions\n",
    "    df = df.groupby([var])['age'].count().reset_index().rename(columns={'age':'count'}).sort_values(by='count', ascending=True)\n",
    "    df['percent'] = (100.0 * df['count']/(df['count'].sum())).round(2)\n",
    "\n",
    "    # plot\n",
    "    plt.barh(df[var], df['percent'])\n",
    "    plt.xlabel('Percent')\n",
    "    plt.ylabel(var)\n",
    "    plt.show()\n",
    "    \n",
    "    return df\n",
    "    \n",
    "    \n",
    "# 1- age\n",
    "plot_hist(adult, 'age')\n",
    "\n",
    "# 2- education_num\n",
    "plot_hist(adult, 'education_num')\n",
    "\n",
    "# 3- capital_gain\n",
    "plot_hist(adult, 'capital_gain')\n",
    "\n",
    "# 4- hours_per_week\n",
    "plot_hist(adult, 'hours_per_week')\n",
    "\n",
    "\n",
    "\n",
    "# 5- workclass\n",
    "df_workclass = plot_proportions(adult, 'workclass') \n",
    "\n",
    "# 6- education\n",
    "df_education = plot_proportions(adult, 'education') \n",
    "\n",
    "# 7- marital_status\n",
    "df_marital_status = plot_proportions(adult, 'marital_status') \n",
    "\n",
    "# 8- occupation\n",
    "df_occupation = plot_proportions(adult, 'occupation') \n",
    "\n",
    "# 9- relationship\n",
    "df_relationship = plot_proportions(adult, 'relationship') \n",
    "\n",
    "# 10- race\n",
    "df_race = plot_proportions(adult, 'race') \n",
    "\n",
    "# 11- gender\n",
    "df_gender = plot_proportions(adult, 'gender') \n",
    "\n",
    "# 12- native_country\n",
    "df_native_country = plot_proportions(adult, 'native_country') \n",
    "\n",
    "# 13- income_cat\n",
    "df_income_cat = plot_proportions(adult, 'income_cat') \n"
   ]
  },
  {
   "cell_type": "markdown",
   "id": "7bb3d0ea",
   "metadata": {},
   "source": [
    "### Data Analysis"
   ]
  },
  {
   "cell_type": "code",
   "execution_count": 8,
   "id": "5fa0ab45",
   "metadata": {},
   "outputs": [
    {
     "data": {
      "text/html": [
       "<div>\n",
       "<style scoped>\n",
       "    .dataframe tbody tr th:only-of-type {\n",
       "        vertical-align: middle;\n",
       "    }\n",
       "\n",
       "    .dataframe tbody tr th {\n",
       "        vertical-align: top;\n",
       "    }\n",
       "\n",
       "    .dataframe thead th {\n",
       "        text-align: right;\n",
       "    }\n",
       "</style>\n",
       "<table border=\"1\" class=\"dataframe\">\n",
       "  <thead>\n",
       "    <tr style=\"text-align: right;\">\n",
       "      <th></th>\n",
       "      <th>gender</th>\n",
       "      <th>income_cat</th>\n",
       "      <th>count</th>\n",
       "      <th>percent</th>\n",
       "    </tr>\n",
       "  </thead>\n",
       "  <tbody>\n",
       "    <tr>\n",
       "      <th>0</th>\n",
       "      <td>Female</td>\n",
       "      <td>&lt;=50K</td>\n",
       "      <td>9592</td>\n",
       "      <td>29.46</td>\n",
       "    </tr>\n",
       "    <tr>\n",
       "      <th>1</th>\n",
       "      <td>Female</td>\n",
       "      <td>&gt;50K</td>\n",
       "      <td>1179</td>\n",
       "      <td>3.62</td>\n",
       "    </tr>\n",
       "    <tr>\n",
       "      <th>2</th>\n",
       "      <td>Male</td>\n",
       "      <td>&lt;=50K</td>\n",
       "      <td>15128</td>\n",
       "      <td>46.46</td>\n",
       "    </tr>\n",
       "    <tr>\n",
       "      <th>3</th>\n",
       "      <td>Male</td>\n",
       "      <td>&gt;50K</td>\n",
       "      <td>6662</td>\n",
       "      <td>20.46</td>\n",
       "    </tr>\n",
       "  </tbody>\n",
       "</table>\n",
       "</div>"
      ],
      "text/plain": [
       "   gender income_cat  count  percent\n",
       "0  Female      <=50K   9592    29.46\n",
       "1  Female       >50K   1179     3.62\n",
       "2    Male      <=50K  15128    46.46\n",
       "3    Male       >50K   6662    20.46"
      ]
     },
     "execution_count": 8,
     "metadata": {},
     "output_type": "execute_result"
    }
   ],
   "source": [
    "# Lets find out income differences!\n",
    "# 1- between race --> White and Black\n",
    "# 2- between gender --> Male and Female\n",
    "\n",
    "# In each case specify which one is higher and by what percentage?\n",
    "\n",
    "# --- \n",
    "\n",
    "# 1-\n",
    "df = adult[adult['race'].isin(['White', 'Black'])]\n",
    "df = df.groupby(['race', 'income_cat'])['age'].count().reset_index().rename(columns={'age':'count'})\n",
    "df['percent'] = (100.0 * df['count']/(df['count'].sum())).round(2)\n",
    "\n",
    "\n",
    "# 2-\n",
    "df2 = adult[adult['gender'].isin(['Male', 'Female'])]\n",
    "df2 = df2.groupby(['gender', 'income_cat'])['age'].count().reset_index().rename(columns={'age':'count'})\n",
    "df2['percent'] = (100.0 * df2['count']/(df2['count'].sum())).round(2)\n",
    "df2"
   ]
  },
  {
   "cell_type": "code",
   "execution_count": 9,
   "id": "c51ac322",
   "metadata": {
    "scrolled": true
   },
   "outputs": [
    {
     "data": {
      "text/html": [
       "<div>\n",
       "<style scoped>\n",
       "    .dataframe tbody tr th:only-of-type {\n",
       "        vertical-align: middle;\n",
       "    }\n",
       "\n",
       "    .dataframe tbody tr th {\n",
       "        vertical-align: top;\n",
       "    }\n",
       "\n",
       "    .dataframe thead th {\n",
       "        text-align: right;\n",
       "    }\n",
       "</style>\n",
       "<table border=\"1\" class=\"dataframe\">\n",
       "  <thead>\n",
       "    <tr style=\"text-align: right;\">\n",
       "      <th></th>\n",
       "      <th>gender</th>\n",
       "      <th>income_cat</th>\n",
       "      <th>count</th>\n",
       "      <th>total</th>\n",
       "      <th>%_of_total</th>\n",
       "    </tr>\n",
       "  </thead>\n",
       "  <tbody>\n",
       "    <tr>\n",
       "      <th>0</th>\n",
       "      <td>Female</td>\n",
       "      <td>&lt;=50K</td>\n",
       "      <td>9592</td>\n",
       "      <td>10771</td>\n",
       "      <td>89.0</td>\n",
       "    </tr>\n",
       "    <tr>\n",
       "      <th>1</th>\n",
       "      <td>Female</td>\n",
       "      <td>&gt;50K</td>\n",
       "      <td>1179</td>\n",
       "      <td>10771</td>\n",
       "      <td>11.0</td>\n",
       "    </tr>\n",
       "    <tr>\n",
       "      <th>2</th>\n",
       "      <td>Male</td>\n",
       "      <td>&lt;=50K</td>\n",
       "      <td>15128</td>\n",
       "      <td>21790</td>\n",
       "      <td>69.0</td>\n",
       "    </tr>\n",
       "    <tr>\n",
       "      <th>3</th>\n",
       "      <td>Male</td>\n",
       "      <td>&gt;50K</td>\n",
       "      <td>6662</td>\n",
       "      <td>21790</td>\n",
       "      <td>31.0</td>\n",
       "    </tr>\n",
       "  </tbody>\n",
       "</table>\n",
       "</div>"
      ],
      "text/plain": [
       "   gender income_cat  count  total  %_of_total\n",
       "0  Female      <=50K   9592  10771        89.0\n",
       "1  Female       >50K   1179  10771        11.0\n",
       "2    Male      <=50K  15128  21790        69.0\n",
       "3    Male       >50K   6662  21790        31.0"
      ]
     },
     "execution_count": 9,
     "metadata": {},
     "output_type": "execute_result"
    }
   ],
   "source": [
    "# 1- Does higher education help you earn more?\n",
    "# 2- Does higher education and being a man help make more money?\n",
    "\n",
    "# can above questions be answered? If no, why not? If yes, write code below.\n",
    "\n",
    "# --- \n",
    "\n",
    "# 1-\n",
    "df_total = adult.groupby(['education'])['age'].count().reset_index().rename(columns={'age':'total'})\n",
    "df_inc_cat = adult.groupby(['education', 'income_cat'])['age'].count().reset_index().rename(columns={'age':'count'})\n",
    "df = pd.merge(df_inc_cat, df_total, on='education', how='inner')\n",
    "df['%_of_total'] = round(100.0*df['count']/df['total'])\n",
    "\n",
    "\n",
    "\n",
    "# 1-\n",
    "df_total = adult.groupby(['gender'])['age'].count().reset_index().rename(columns={'age':'total'})\n",
    "df_inc_cat = adult.groupby(['gender', 'income_cat'])['age'].count().reset_index().rename(columns={'age':'count'})\n",
    "df = pd.merge(df_inc_cat, df_total, on='gender', how='inner')\n",
    "df['%_of_total'] = round(100.0*df['count']/df['total'])\n",
    "df\n"
   ]
  },
  {
   "cell_type": "code",
   "execution_count": 10,
   "id": "a1ec0f6a",
   "metadata": {},
   "outputs": [
    {
     "data": {
      "text/html": [
       "<div>\n",
       "<style scoped>\n",
       "    .dataframe tbody tr th:only-of-type {\n",
       "        vertical-align: middle;\n",
       "    }\n",
       "\n",
       "    .dataframe tbody tr th {\n",
       "        vertical-align: top;\n",
       "    }\n",
       "\n",
       "    .dataframe thead th {\n",
       "        text-align: right;\n",
       "    }\n",
       "</style>\n",
       "<table border=\"1\" class=\"dataframe\">\n",
       "  <thead>\n",
       "    <tr style=\"text-align: right;\">\n",
       "      <th></th>\n",
       "      <th>race</th>\n",
       "      <th>gender</th>\n",
       "      <th>income_cat</th>\n",
       "    </tr>\n",
       "  </thead>\n",
       "  <tbody>\n",
       "    <tr>\n",
       "      <th>0</th>\n",
       "      <td>Amer-Indian-Eskimo</td>\n",
       "      <td>Female</td>\n",
       "      <td>36</td>\n",
       "    </tr>\n",
       "    <tr>\n",
       "      <th>1</th>\n",
       "      <td>Amer-Indian-Eskimo</td>\n",
       "      <td>Male</td>\n",
       "      <td>34</td>\n",
       "    </tr>\n",
       "    <tr>\n",
       "      <th>2</th>\n",
       "      <td>Asian-Pac-Islander</td>\n",
       "      <td>Female</td>\n",
       "      <td>44</td>\n",
       "    </tr>\n",
       "    <tr>\n",
       "      <th>3</th>\n",
       "      <td>Asian-Pac-Islander</td>\n",
       "      <td>Male</td>\n",
       "      <td>97</td>\n",
       "    </tr>\n",
       "    <tr>\n",
       "      <th>4</th>\n",
       "      <td>Black</td>\n",
       "      <td>Female</td>\n",
       "      <td>328</td>\n",
       "    </tr>\n",
       "    <tr>\n",
       "      <th>5</th>\n",
       "      <td>Black</td>\n",
       "      <td>Male</td>\n",
       "      <td>288</td>\n",
       "    </tr>\n",
       "    <tr>\n",
       "      <th>6</th>\n",
       "      <td>Other</td>\n",
       "      <td>Female</td>\n",
       "      <td>7</td>\n",
       "    </tr>\n",
       "    <tr>\n",
       "      <th>7</th>\n",
       "      <td>Other</td>\n",
       "      <td>Male</td>\n",
       "      <td>14</td>\n",
       "    </tr>\n",
       "    <tr>\n",
       "      <th>8</th>\n",
       "      <td>White</td>\n",
       "      <td>Female</td>\n",
       "      <td>1224</td>\n",
       "    </tr>\n",
       "    <tr>\n",
       "      <th>9</th>\n",
       "      <td>White</td>\n",
       "      <td>Male</td>\n",
       "      <td>2279</td>\n",
       "    </tr>\n",
       "  </tbody>\n",
       "</table>\n",
       "</div>"
      ],
      "text/plain": [
       "                 race  gender  income_cat\n",
       "0  Amer-Indian-Eskimo  Female          36\n",
       "1  Amer-Indian-Eskimo    Male          34\n",
       "2  Asian-Pac-Islander  Female          44\n",
       "3  Asian-Pac-Islander    Male          97\n",
       "4               Black  Female         328\n",
       "5               Black    Male         288\n",
       "6               Other  Female           7\n",
       "7               Other    Male          14\n",
       "8               White  Female        1224\n",
       "9               White    Male        2279"
      ]
     },
     "execution_count": 10,
     "metadata": {},
     "output_type": "execute_result"
    }
   ],
   "source": [
    "# What is a predominant race that is employed in government jobs such as:\n",
    "# 'State-gov', 'Federal-gov', 'Local-gov' ?\n",
    "\n",
    "# can above questions be answered? If no, why not? If yes, write code below.\n",
    "\n",
    "# --- \n",
    "\n",
    "df = adult[adult['workclass'].isin(['State-gov', 'Federal-gov', 'Local-gov'])][['race', 'gender', 'income_cat']]\n",
    "df = df.groupby(['race', 'gender'])['income_cat'].count().reset_index()\n",
    "df"
   ]
  },
  {
   "cell_type": "code",
   "execution_count": 11,
   "id": "83e65f33",
   "metadata": {},
   "outputs": [
    {
     "data": {
      "text/html": [
       "<div>\n",
       "<style scoped>\n",
       "    .dataframe tbody tr th:only-of-type {\n",
       "        vertical-align: middle;\n",
       "    }\n",
       "\n",
       "    .dataframe tbody tr th {\n",
       "        vertical-align: top;\n",
       "    }\n",
       "\n",
       "    .dataframe thead th {\n",
       "        text-align: right;\n",
       "    }\n",
       "</style>\n",
       "<table border=\"1\" class=\"dataframe\">\n",
       "  <thead>\n",
       "    <tr style=\"text-align: right;\">\n",
       "      <th></th>\n",
       "      <th>workclass</th>\n",
       "      <th>income_cat</th>\n",
       "      <th>count</th>\n",
       "      <th>total</th>\n",
       "      <th>%_of_total</th>\n",
       "    </tr>\n",
       "  </thead>\n",
       "  <tbody>\n",
       "    <tr>\n",
       "      <th>0</th>\n",
       "      <td>Self-emp-inc</td>\n",
       "      <td>&lt;=50K</td>\n",
       "      <td>494</td>\n",
       "      <td>1116</td>\n",
       "      <td>44.0</td>\n",
       "    </tr>\n",
       "    <tr>\n",
       "      <th>1</th>\n",
       "      <td>Self-emp-inc</td>\n",
       "      <td>&gt;50K</td>\n",
       "      <td>622</td>\n",
       "      <td>1116</td>\n",
       "      <td>56.0</td>\n",
       "    </tr>\n",
       "    <tr>\n",
       "      <th>2</th>\n",
       "      <td>Self-emp-not-inc</td>\n",
       "      <td>&lt;=50K</td>\n",
       "      <td>1817</td>\n",
       "      <td>2541</td>\n",
       "      <td>72.0</td>\n",
       "    </tr>\n",
       "    <tr>\n",
       "      <th>3</th>\n",
       "      <td>Self-emp-not-inc</td>\n",
       "      <td>&gt;50K</td>\n",
       "      <td>724</td>\n",
       "      <td>2541</td>\n",
       "      <td>28.0</td>\n",
       "    </tr>\n",
       "  </tbody>\n",
       "</table>\n",
       "</div>"
      ],
      "text/plain": [
       "          workclass income_cat  count  total  %_of_total\n",
       "0      Self-emp-inc      <=50K    494   1116        44.0\n",
       "1      Self-emp-inc       >50K    622   1116        56.0\n",
       "2  Self-emp-not-inc      <=50K   1817   2541        72.0\n",
       "3  Self-emp-not-inc       >50K    724   2541        28.0"
      ]
     },
     "execution_count": 11,
     "metadata": {},
     "output_type": "execute_result"
    }
   ],
   "source": [
    "# What percentage of self employeed adults earn more than 50K?\n",
    "# 'Self-emp-inc',  'Self-emp-not-inc'\n",
    "\n",
    "# --- \n",
    "\n",
    "df = adult[adult['workclass'].isin(['Self-emp-inc',  'Self-emp-not-inc'])]\n",
    "df_total = df.groupby(['workclass'])['age'].count().reset_index().rename(columns={'age':'total'})\n",
    "df_inc_cat = df.groupby(['workclass', 'income_cat'])['age'].count().reset_index().rename(columns={'age':'count'})\n",
    "df = pd.merge(df_inc_cat, df_total, on='workclass', how='inner')\n",
    "df['%_of_total'] = round(100.0*df['count']/df['total'])\n",
    "df\n"
   ]
  },
  {
   "cell_type": "code",
   "execution_count": 12,
   "id": "d4e33625",
   "metadata": {
    "scrolled": true
   },
   "outputs": [
    {
     "data": {
      "text/html": [
       "<div>\n",
       "<style scoped>\n",
       "    .dataframe tbody tr th:only-of-type {\n",
       "        vertical-align: middle;\n",
       "    }\n",
       "\n",
       "    .dataframe tbody tr th {\n",
       "        vertical-align: top;\n",
       "    }\n",
       "\n",
       "    .dataframe thead th {\n",
       "        text-align: right;\n",
       "    }\n",
       "</style>\n",
       "<table border=\"1\" class=\"dataframe\">\n",
       "  <thead>\n",
       "    <tr style=\"text-align: right;\">\n",
       "      <th></th>\n",
       "      <th>gender</th>\n",
       "      <th>income_cat</th>\n",
       "      <th>count</th>\n",
       "      <th>total</th>\n",
       "      <th>%_of_total</th>\n",
       "    </tr>\n",
       "  </thead>\n",
       "  <tbody>\n",
       "    <tr>\n",
       "      <th>0</th>\n",
       "      <td>Female</td>\n",
       "      <td>&lt;=50K</td>\n",
       "      <td>2493</td>\n",
       "      <td>2672</td>\n",
       "      <td>93.0</td>\n",
       "    </tr>\n",
       "    <tr>\n",
       "      <th>1</th>\n",
       "      <td>Female</td>\n",
       "      <td>&gt;50K</td>\n",
       "      <td>179</td>\n",
       "      <td>2672</td>\n",
       "      <td>7.0</td>\n",
       "    </tr>\n",
       "    <tr>\n",
       "      <th>2</th>\n",
       "      <td>Male</td>\n",
       "      <td>&lt;=50K</td>\n",
       "      <td>1487</td>\n",
       "      <td>1771</td>\n",
       "      <td>84.0</td>\n",
       "    </tr>\n",
       "    <tr>\n",
       "      <th>3</th>\n",
       "      <td>Male</td>\n",
       "      <td>&gt;50K</td>\n",
       "      <td>284</td>\n",
       "      <td>1771</td>\n",
       "      <td>16.0</td>\n",
       "    </tr>\n",
       "  </tbody>\n",
       "</table>\n",
       "</div>"
      ],
      "text/plain": [
       "   gender income_cat  count  total  %_of_total\n",
       "0  Female      <=50K   2493   2672        93.0\n",
       "1  Female       >50K    179   2672         7.0\n",
       "2    Male      <=50K   1487   1771        84.0\n",
       "3    Male       >50K    284   1771        16.0"
      ]
     },
     "execution_count": 12,
     "metadata": {},
     "output_type": "execute_result"
    }
   ],
   "source": [
    "# 1- Calculate percentage of divorced men vs. women?\n",
    "# 2- What fraction for each earns >50K\n",
    "\n",
    "# --- \n",
    "\n",
    "# 1-\n",
    "df = adult[adult['marital_status'].isin(['Divorced'])]\n",
    "df = df.groupby(['gender'])['age'].count().reset_index().rename(columns={'age':'count'})\n",
    "df['percent'] = (100.0 * df['count']/(df['count'].sum())).round(2)\n",
    "\n",
    "\n",
    "\n",
    "# 2-\n",
    "df = adult[adult['marital_status'].isin(['Divorced'])]\n",
    "df_total = df.groupby(['gender'])['age'].count().reset_index().rename(columns={'age':'total'})\n",
    "df_inc_cat = df.groupby(['gender', 'income_cat'])['age'].count().reset_index().rename(columns={'age':'count'})\n",
    "df = pd.merge(df_inc_cat, df_total, on='gender', how='inner')\n",
    "df['%_of_total'] = round(100.0*df['count']/df['total'])\n",
    "df\n"
   ]
  },
  {
   "cell_type": "code",
   "execution_count": 685,
   "id": "6988b16a",
   "metadata": {},
   "outputs": [
    {
     "data": {
      "image/png": "[encoded data removed]",
      "text/plain": [
       "<Figure size 432x288 with 1 Axes>"
      ]
     },
     "metadata": {
      "needs_background": "light"
     },
     "output_type": "display_data"
    }
   ],
   "source": [
    "# Plot average hours_per_week with error bars that men vs. women work?\n",
    "\n",
    "# --- \n",
    "\n",
    "df1 = adult.groupby(['gender'])['hours_per_week'].mean().reset_index().rename(columns={'hours_per_week':'mean'})\n",
    "df2 = adult.groupby(['gender'])['hours_per_week'].std().reset_index().rename(columns={'hours_per_week':'sd'})\n",
    "df = pd.merge(df1, df2, on='gender', how='inner')\n",
    "df\n",
    "\n",
    "plt.bar(df['gender'], df['mean'])\n",
    "plt.errorbar(df['gender'], df['mean'], \n",
    "                 yerr=df['sd'], \n",
    "                 linestyle='', capsize=5, ecolor='red')\n",
    "plt.ylabel('Mean hours per week')\n",
    "plt.show()"
   ]
  },
  {
   "cell_type": "code",
   "execution_count": 691,
   "id": "35f57e42",
   "metadata": {},
   "outputs": [
    {
     "data": {
      "image/png": "[encoded data removed]",
      "text/plain": [
       "<Figure size 432x288 with 1 Axes>"
      ]
     },
     "metadata": {
      "needs_background": "light"
     },
     "output_type": "display_data"
    }
   ],
   "source": [
    "# Plot average hours_per_week with error bars in Private vs. Goverment (i.e. 'State-gov', 'Federal-gov', 'Local-gov' combined)?\n",
    "\n",
    "# --- \n",
    "\n",
    "df = adult[adult['workclass'].isin(['Private', 'State-gov', 'Federal-gov', 'Local-gov'])][['workclass', 'hours_per_week']]\n",
    "df['workclass'] = df['workclass'].apply(lambda x: 'Government' if (x=='State-gov')|(x=='Federal-gov')|(x=='Local-gov') else\n",
    "                                           x\n",
    "                                       )\n",
    "df1 = df.groupby(['workclass'])['hours_per_week'].mean().reset_index().rename(columns={'hours_per_week':'mean'})\n",
    "df2 = df.groupby(['workclass'])['hours_per_week'].std().reset_index().rename(columns={'hours_per_week':'sd'})\n",
    "df = pd.merge(df1, df2, on='workclass', how='inner')\n",
    "\n",
    "\n",
    "plt.bar(df['workclass'], df['mean'])\n",
    "plt.errorbar(df['workclass'], df['mean'], \n",
    "                 yerr=df['sd'], \n",
    "                 linestyle='', capsize=5, ecolor='red')\n",
    "plt.ylabel('Mean hours per week')\n",
    "plt.show()"
   ]
  },
  {
   "cell_type": "code",
   "execution_count": null,
   "id": "3607f054",
   "metadata": {},
   "outputs": [],
   "source": []
  },
  {
   "cell_type": "code",
   "execution_count": null,
   "id": "732b4007",
   "metadata": {},
   "outputs": [],
   "source": []
  },
  {
   "cell_type": "code",
   "execution_count": null,
   "id": "1d9f9eba",
   "metadata": {},
   "outputs": [],
   "source": []
  }
 ],
 "metadata": {
  "kernelspec": {
   "display_name": "Python 3 (ipykernel)",
   "language": "python",
   "name": "python3"
  },
  "language_info": {
   "codemirror_mode": {
    "name": "ipython",
    "version": 3
   },
   "file_extension": ".py",
   "mimetype": "text/x-python",
   "name": "python",
   "nbconvert_exporter": "python",
   "pygments_lexer": "ipython3",
   "version": "3.9.13"
  }
 },
 "nbformat": 4,
 "nbformat_minor": 5
}
