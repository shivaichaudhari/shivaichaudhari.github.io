{
 "cells": [
  {
   "cell_type": "markdown",
   "id": "d27be503",
   "metadata": {},
   "source": [
    "# Country and Dependencies by Population Density: 2022-2023\n"
   ]
  },
  {
   "cell_type": "code",
   "execution_count": null,
   "id": "65f98d52",
   "metadata": {},
   "outputs": [],
   "source": []
  },
  {
   "cell_type": "markdown",
   "id": "017b2859",
   "metadata": {},
   "source": [
    "### Import libraries"
   ]
  },
  {
   "cell_type": "code",
   "execution_count": 1,
   "id": "d48ac5f5",
   "metadata": {},
   "outputs": [],
   "source": [
    "import seaborn as sns\n",
    "import pandas as pd\n",
    "import numpy as np\n",
    "import matplotlib.pyplot as plt"
   ]
  },
  {
   "cell_type": "code",
   "execution_count": 2,
   "id": "db322504",
   "metadata": {},
   "outputs": [],
   "source": [
    "pd.set_option('display.max_rows', 500)\n",
    "pd.set_option('display.max_columns', 500)\n",
    "pd.set_option('display.width', 1000)\n",
    "np.set_printoptions(suppress=True) "
   ]
  },
  {
   "cell_type": "markdown",
   "id": "30560511",
   "metadata": {},
   "source": [
    "### Read data"
   ]
  },
  {
   "cell_type": "code",
   "execution_count": 3,
   "id": "94a29d29",
   "metadata": {},
   "outputs": [
    {
     "data": {
      "text/html": [
       "<div>\n",
       "<style scoped>\n",
       "    .dataframe tbody tr th:only-of-type {\n",
       "        vertical-align: middle;\n",
       "    }\n",
       "\n",
       "    .dataframe tbody tr th {\n",
       "        vertical-align: top;\n",
       "    }\n",
       "\n",
       "    .dataframe thead th {\n",
       "        text-align: right;\n",
       "    }\n",
       "</style>\n",
       "<table border=\"1\" class=\"dataframe\">\n",
       "  <thead>\n",
       "    <tr style=\"text-align: right;\">\n",
       "      <th></th>\n",
       "      <th>Country</th>\n",
       "      <th>Unnamed: 1</th>\n",
       "      <th>population</th>\n",
       "      <th>area_sq_km</th>\n",
       "      <th>area_sqmi</th>\n",
       "      <th>pop_den_per_km2</th>\n",
       "      <th>pop_den_per_sqmi</th>\n",
       "    </tr>\n",
       "  </thead>\n",
       "  <tbody>\n",
       "    <tr>\n",
       "      <th>0</th>\n",
       "      <td>Macau</td>\n",
       "      <td>Macau</td>\n",
       "      <td>6,86,607</td>\n",
       "      <td>33</td>\n",
       "      <td>13</td>\n",
       "      <td>20,806</td>\n",
       "      <td>53,888</td>\n",
       "    </tr>\n",
       "    <tr>\n",
       "      <th>1</th>\n",
       "      <td>Monaco</td>\n",
       "      <td>Monaco</td>\n",
       "      <td>36,686</td>\n",
       "      <td>2</td>\n",
       "      <td>1</td>\n",
       "      <td>18,343</td>\n",
       "      <td>47,508</td>\n",
       "    </tr>\n",
       "    <tr>\n",
       "      <th>2</th>\n",
       "      <td>Singapore</td>\n",
       "      <td>Singapore</td>\n",
       "      <td>54,53,600</td>\n",
       "      <td>716</td>\n",
       "      <td>276</td>\n",
       "      <td>7,617</td>\n",
       "      <td>19,727</td>\n",
       "    </tr>\n",
       "    <tr>\n",
       "      <th>3</th>\n",
       "      <td>Hong Kong</td>\n",
       "      <td>Hong Kong</td>\n",
       "      <td>74,94,578</td>\n",
       "      <td>1,104</td>\n",
       "      <td>426</td>\n",
       "      <td>6,789</td>\n",
       "      <td>17,582</td>\n",
       "    </tr>\n",
       "    <tr>\n",
       "      <th>4</th>\n",
       "      <td>Gibraltar (BOT)</td>\n",
       "      <td>Gibraltar (BOT)</td>\n",
       "      <td>32,669</td>\n",
       "      <td>6</td>\n",
       "      <td>2</td>\n",
       "      <td>5,445</td>\n",
       "      <td>14,102</td>\n",
       "    </tr>\n",
       "  </tbody>\n",
       "</table>\n",
       "</div>"
      ],
      "text/plain": [
       "            Country        Unnamed: 1 population area_sq_km area_sqmi pop_den_per_km2 pop_den_per_sqmi\n",
       "0             Macau             Macau   6,86,607         33        13          20,806           53,888\n",
       "1            Monaco            Monaco     36,686          2         1          18,343           47,508\n",
       "2         Singapore         Singapore  54,53,600        716       276           7,617           19,727\n",
       "3         Hong Kong         Hong Kong  74,94,578      1,104       426           6,789           17,582\n",
       "4   Gibraltar (BOT)   Gibraltar (BOT)     32,669          6         2           5,445           14,102"
      ]
     },
     "execution_count": 3,
     "metadata": {},
     "output_type": "execute_result"
    }
   ],
   "source": [
    "# Question # 1\n",
    "# Note: The data for this question was downloaded form:\n",
    "# https://en.wikipedia.org/wiki/List_of_countries_and_dependencies_by_population_density\n",
    "\n",
    "# Step-1: Download the file: 'population.tsv' into the same folder as this notebook\n",
    "# Step-2: Copy and paste the path to that file below within quotes to variable 'path'\n",
    "\n",
    "\n",
    "# Step-3: Read the file using pd.read_csv() using the '\\t' separator (tab)\n",
    "#path = '-add your path here-'\n",
    "pop = pd.read_csv(path + 'population.tsv', sep='\\t')\n",
    "\n",
    "# Step-4: Look at the first five records using .head()\n",
    "pop.head()"
   ]
  },
  {
   "cell_type": "markdown",
   "id": "935074f1",
   "metadata": {},
   "source": [
    "### Preprocessing"
   ]
  },
  {
   "cell_type": "code",
   "execution_count": 4,
   "id": "f87d8596",
   "metadata": {},
   "outputs": [
    {
     "data": {
      "text/html": [
       "<div>\n",
       "<style scoped>\n",
       "    .dataframe tbody tr th:only-of-type {\n",
       "        vertical-align: middle;\n",
       "    }\n",
       "\n",
       "    .dataframe tbody tr th {\n",
       "        vertical-align: top;\n",
       "    }\n",
       "\n",
       "    .dataframe thead th {\n",
       "        text-align: right;\n",
       "    }\n",
       "</style>\n",
       "<table border=\"1\" class=\"dataframe\">\n",
       "  <thead>\n",
       "    <tr style=\"text-align: right;\">\n",
       "      <th></th>\n",
       "      <th>Country</th>\n",
       "      <th>population</th>\n",
       "      <th>area_sq_km</th>\n",
       "      <th>area_sqmi</th>\n",
       "      <th>pop_den_per_km2</th>\n",
       "      <th>pop_den_per_sqmi</th>\n",
       "    </tr>\n",
       "  </thead>\n",
       "  <tbody>\n",
       "    <tr>\n",
       "      <th>0</th>\n",
       "      <td>Macau</td>\n",
       "      <td>6,86,607</td>\n",
       "      <td>33</td>\n",
       "      <td>13</td>\n",
       "      <td>20,806</td>\n",
       "      <td>53,888</td>\n",
       "    </tr>\n",
       "    <tr>\n",
       "      <th>1</th>\n",
       "      <td>Monaco</td>\n",
       "      <td>36,686</td>\n",
       "      <td>2</td>\n",
       "      <td>1</td>\n",
       "      <td>18,343</td>\n",
       "      <td>47,508</td>\n",
       "    </tr>\n",
       "    <tr>\n",
       "      <th>2</th>\n",
       "      <td>Singapore</td>\n",
       "      <td>54,53,600</td>\n",
       "      <td>716</td>\n",
       "      <td>276</td>\n",
       "      <td>7,617</td>\n",
       "      <td>19,727</td>\n",
       "    </tr>\n",
       "    <tr>\n",
       "      <th>3</th>\n",
       "      <td>Hong Kong</td>\n",
       "      <td>74,94,578</td>\n",
       "      <td>1,104</td>\n",
       "      <td>426</td>\n",
       "      <td>6,789</td>\n",
       "      <td>17,582</td>\n",
       "    </tr>\n",
       "    <tr>\n",
       "      <th>4</th>\n",
       "      <td>Gibraltar (BOT)</td>\n",
       "      <td>32,669</td>\n",
       "      <td>6</td>\n",
       "      <td>2</td>\n",
       "      <td>5,445</td>\n",
       "      <td>14,102</td>\n",
       "    </tr>\n",
       "  </tbody>\n",
       "</table>\n",
       "</div>"
      ],
      "text/plain": [
       "            Country population area_sq_km area_sqmi pop_den_per_km2 pop_den_per_sqmi\n",
       "0             Macau   6,86,607         33        13          20,806           53,888\n",
       "1            Monaco     36,686          2         1          18,343           47,508\n",
       "2         Singapore  54,53,600        716       276           7,617           19,727\n",
       "3         Hong Kong  74,94,578      1,104       426           6,789           17,582\n",
       "4   Gibraltar (BOT)     32,669          6         2           5,445           14,102"
      ]
     },
     "execution_count": 4,
     "metadata": {},
     "output_type": "execute_result"
    }
   ],
   "source": [
    "# Drop column 'Unnamed: 1' \n",
    "# and look at first five records\n",
    "\n",
    "pop = pop.drop('Unnamed: 1', axis=1)\n",
    "\n",
    "pop.head()\n"
   ]
  },
  {
   "cell_type": "code",
   "execution_count": 5,
   "id": "3067c14a",
   "metadata": {},
   "outputs": [
    {
     "data": {
      "text/plain": [
       "Country                Macau\n",
       "population          6,86,607\n",
       "area_sq_km                33\n",
       "area_sqmi                 13\n",
       "pop_den_per_km2       20,806\n",
       "pop_den_per_sqmi      53,888\n",
       "Name: 0, dtype: object"
      ]
     },
     "execution_count": 5,
     "metadata": {},
     "output_type": "execute_result"
    }
   ],
   "source": [
    "# print values from the first row only\n",
    "\n",
    "pop.iloc[0]"
   ]
  },
  {
   "cell_type": "code",
   "execution_count": 6,
   "id": "d0285d74",
   "metadata": {},
   "outputs": [
    {
     "data": {
      "text/html": [
       "<div>\n",
       "<style scoped>\n",
       "    .dataframe tbody tr th:only-of-type {\n",
       "        vertical-align: middle;\n",
       "    }\n",
       "\n",
       "    .dataframe tbody tr th {\n",
       "        vertical-align: top;\n",
       "    }\n",
       "\n",
       "    .dataframe thead th {\n",
       "        text-align: right;\n",
       "    }\n",
       "</style>\n",
       "<table border=\"1\" class=\"dataframe\">\n",
       "  <thead>\n",
       "    <tr style=\"text-align: right;\">\n",
       "      <th></th>\n",
       "      <th>Country</th>\n",
       "      <th>population</th>\n",
       "      <th>area_sq_km</th>\n",
       "      <th>area_sqmi</th>\n",
       "      <th>pop_den_per_km2</th>\n",
       "      <th>pop_den_per_sqmi</th>\n",
       "    </tr>\n",
       "  </thead>\n",
       "  <tbody>\n",
       "    <tr>\n",
       "      <th>156</th>\n",
       "      <td>World (excluding Antarctica)</td>\n",
       "      <td>7,99,96,50,000</td>\n",
       "      <td>13,47,40,000</td>\n",
       "      <td>5,20,23,114</td>\n",
       "      <td>59</td>\n",
       "      <td>154</td>\n",
       "    </tr>\n",
       "    <tr>\n",
       "      <th>161</th>\n",
       "      <td>World (all land)</td>\n",
       "      <td>7,99,96,50,000</td>\n",
       "      <td>14,89,40,000</td>\n",
       "      <td>5,75,05,734</td>\n",
       "      <td>54</td>\n",
       "      <td>139</td>\n",
       "    </tr>\n",
       "  </tbody>\n",
       "</table>\n",
       "</div>"
      ],
      "text/plain": [
       "                          Country      population    area_sq_km    area_sqmi pop_den_per_km2 pop_den_per_sqmi\n",
       "156  World (excluding Antarctica)  7,99,96,50,000  13,47,40,000  5,20,23,114              59              154\n",
       "161              World (all land)  7,99,96,50,000  14,89,40,000  5,75,05,734              54              139"
      ]
     },
     "execution_count": 6,
     "metadata": {},
     "output_type": "execute_result"
    }
   ],
   "source": [
    "pop[pop['Country'].str.contains('World')]"
   ]
  },
  {
   "cell_type": "code",
   "execution_count": 7,
   "id": "4fe1cb8d",
   "metadata": {},
   "outputs": [
    {
     "name": "stdout",
     "output_type": "stream",
     "text": [
      "shape: (250, 6)\n",
      "\n",
      "data types:\n",
      " Country             object\n",
      "population          object\n",
      "area_sq_km          object\n",
      "area_sqmi           object\n",
      "pop_den_per_km2     object\n",
      "pop_den_per_sqmi    object\n",
      "dtype: object\n",
      "\n",
      "number of rows: 250\n",
      "\n",
      "number of columns: 6\n",
      "\n",
      "missing value count:\n",
      " Country             0\n",
      "population          0\n",
      "area_sq_km          0\n",
      "area_sqmi           0\n",
      "pop_den_per_km2     0\n",
      "pop_den_per_sqmi    0\n",
      "dtype: int64\n",
      "total number of values: 1500\n"
     ]
    }
   ],
   "source": [
    "# use 'pop' and print\n",
    "#1: shape \n",
    "#2: data types in each column\n",
    "#3: number of rows\n",
    "#4: number of columns\n",
    "#5: check for missing values in each columns. Hint: .isna().sum()\n",
    "#6: total number of values or elements or items in the entire dataframe\n",
    "\n",
    "# --- \n",
    "\n",
    "#1: shape \n",
    "print(\"shape:\", pop.shape)\n",
    "\n",
    "#2: dtypes\n",
    "print('\\ndata types:\\n', pop.dtypes)\n",
    "\n",
    "#3: number of rows\n",
    "print(\"\\nnumber of rows:\", len(pop))\n",
    "\n",
    "#4: number of columns\n",
    "print(\"\\nnumber of columns:\", pop.shape[1])\n",
    "\n",
    "#5: check for missing values in each columns. Hint: .isna().sum()\n",
    "print('\\nmissing value count:\\n', pop.isna().sum())\n",
    "\n",
    "#6: total number of values\n",
    "print('total number of values:', pop.size)"
   ]
  },
  {
   "cell_type": "code",
   "execution_count": 8,
   "id": "773f67d0",
   "metadata": {},
   "outputs": [
    {
     "name": "stdout",
     "output_type": "stream",
     "text": [
      "wk_days:\n",
      " ['Monday', 'Tuesday', 'Wednesday', 'Thursday', 'Friday', 'Saturday', 'Sunday'] \n",
      "\n",
      "d_wk:\n",
      " {'wk_days': ['Monday', 'Tuesday', 'Wednesday', 'Thursday', 'Friday', 'Saturday', 'Sunday']} \n",
      "\n",
      "wk_days:\n",
      " 0       Monday\n",
      "1      Tuesday\n",
      "2    Wednesday\n",
      "3     Thursday\n",
      "4       Friday\n",
      "5     Saturday\n",
      "6       Sunday\n",
      "dtype: object \n",
      "\n",
      "wk_days:\n",
      "      wk_days\n",
      "0     Monday\n",
      "1    Tuesday\n",
      "2  Wednesday\n",
      "3   Thursday\n",
      "4     Friday\n",
      "5   Saturday\n",
      "6     Sunday \n",
      "\n"
     ]
    }
   ],
   "source": [
    "# A week has seven weekdays \"Monday\" to \"Sunday\". Create:\n",
    "#1 a list of weekdays 'wk_days'\n",
    "#2 a dictionary 'd_wk' with key: 'wk_days'\n",
    "#3 a Series 'wk_days'\n",
    "#4 a DataFrame 'df_wk' with column 'wk_days'\n",
    "#Print each output to get expected output\n",
    "\n",
    "# --- \n",
    "\n",
    "#1:\n",
    "wk_days = ['Monday', 'Tuesday', 'Wednesday', 'Thursday', 'Friday', 'Saturday', 'Sunday']\n",
    "print(\"wk_days:\\n\", wk_days, '\\n')\n",
    "\n",
    "#2:\n",
    "d_wk = {'wk_days':['Monday', 'Tuesday', 'Wednesday', 'Thursday', 'Friday', 'Saturday', 'Sunday']}\n",
    "print(\"d_wk:\\n\", d_wk, '\\n')\n",
    "\n",
    "#3:\n",
    "wk_days = pd.Series(['Monday', 'Tuesday', 'Wednesday', 'Thursday', 'Friday', 'Saturday', 'Sunday'])\n",
    "print(\"wk_days:\\n\", wk_days, '\\n')\n",
    "\n",
    "#4:\n",
    "wk_days = pd.DataFrame({'wk_days':['Monday', 'Tuesday', 'Wednesday', 'Thursday', 'Friday', 'Saturday', 'Sunday']})\n",
    "print(\"wk_days:\\n\", wk_days, '\\n')\n",
    "#wk_days"
   ]
  },
  {
   "cell_type": "code",
   "execution_count": 9,
   "id": "3bef80c1",
   "metadata": {},
   "outputs": [
    {
     "name": "stdout",
     "output_type": "stream",
     "text": [
      "x: [0.5488135  0.71518937 0.60276338 0.54488318 0.4236548 ]\n",
      "Type: <class 'numpy.ndarray'>\n",
      "Sum: 2.83530422870719\n",
      "Mean: 0.567060845741438\n",
      "Value at index 2: 0.6027633760716439\n",
      "Sum of values at index 2 and 4: 1.0264181754105486\n"
     ]
    }
   ],
   "source": [
    "np.random.seed(0)\n",
    "\n",
    "#1 Find and use a numpy function to create 5 random float values and save in 'x'\n",
    "# Print: \n",
    "#2 type of x\n",
    "#3 sum of x\n",
    "#4 mean of x\n",
    "#5 value at index 2\n",
    "#6 sum of value of index 2 and 4\n",
    "\n",
    "\n",
    "# --- \n",
    "\n",
    "#1 Find and use a numpy function to create 5 random numbers and save in 'x'\n",
    "x = np.random.rand(5)\n",
    "print('x:', x)\n",
    "\n",
    "#2 type of x\n",
    "print('Type:', type(x))\n",
    "\n",
    "#3 sum of x\n",
    "xsum = np.sum(x)\n",
    "print('Sum:', xsum)\n",
    "\n",
    "#4 mean of x\n",
    "xmean = np.mean(x)\n",
    "print('Mean:', xmean)\n",
    "\n",
    "#5 value at index 2\n",
    "val_2 = x[2]\n",
    "print('Value at index 2:', val_2)\n",
    "\n",
    "#6 sum of value of index 2 and 4\n",
    "sum_2_4 = x[2] + x[4]\n",
    "print(\"Sum of values at index 2 and 4:\", sum_2_4)\n"
   ]
  },
  {
   "cell_type": "code",
   "execution_count": 12,
   "id": "4d0bc98b",
   "metadata": {},
   "outputs": [
    {
     "name": "stdout",
     "output_type": "stream",
     "text": [
      "x: [5 0 3 3 7]\n",
      "Type: <class 'numpy.ndarray'>\n",
      "Sum: 1800\n",
      "Mean: 1.5434872662825798\n",
      "xnew: [3 0 5 3 7]\n",
      "Absolute difference between x and xnew: [2 0 2 0 0]\n"
     ]
    }
   ],
   "source": [
    "np.random.seed(0)\n",
    "\n",
    "#1 Find and use a numpy function to create 5 random integer values between 0 to 10and save in 'x'\n",
    "# Print: \n",
    "#2 type of x\n",
    "#3 sum of x then multiply by 100\n",
    "#4 mean of x then divide by standard deviation of x\n",
    "#5 swap items from index 2 and index 0 and save in 'xnew' (i.e. move from 2 to 0 and 0 to 2)\n",
    "#6 find absolute difference between x and xnew. Hint: abs()\n",
    "\n",
    "\n",
    "# --- \n",
    "\n",
    "#1 Find and use a numpy function to create 5 random numbers and save in 'x'\n",
    "x = np.random.randint(0,10,5)\n",
    "print('x:', x)\n",
    "\n",
    "#2 type of x\n",
    "print('Type:', type(x))\n",
    "\n",
    "#3 sum of x then multiply by 100\n",
    "xsum = np.sum(x) * 100\n",
    "print('Sum:', xsum)\n",
    "\n",
    "#4 mean of x then divide by standard deviation of x\n",
    "xmean = np.mean(x) / np.std(x)\n",
    "print('Mean:', xmean)\n",
    "\n",
    "#5 swap items from index 2 and index 0 (i.e. move from 2 to 0 and 0 to 2)\n",
    "xnew = x.copy()\n",
    "i_2 = x[2]\n",
    "i_0 = x[0]\n",
    "xnew[0] = x[2]\n",
    "xnew[2] = x[0]\n",
    "print('xnew:', xnew)\n",
    "\n",
    "#6 find difference between x and xnew\n",
    "x_diff = abs(x - xnew)\n",
    "print(\"Absolute difference between x and xnew:\", x_diff)\n"
   ]
  },
  {
   "cell_type": "code",
   "execution_count": 13,
   "id": "6bc029d2",
   "metadata": {},
   "outputs": [
    {
     "name": "stdout",
     "output_type": "stream",
     "text": [
      "Total leaves: 100000\n"
     ]
    }
   ],
   "source": [
    "# A tree has 20 large branches\n",
    "# Each large branch has 10 small branches\n",
    "# Each small branch has 50 stems or twigs\n",
    "# Each twig has 10 leaves\n",
    "# How many leaves does the tree have?\n",
    "\n",
    "# Create your own variables\n",
    "\n",
    "# --- \n",
    "\n",
    "large_branches = 20\n",
    "small_branches = 10\n",
    "twigs = 50\n",
    "leaves = 10\n",
    "\n",
    "total_leaves = large_branches * small_branches * twigs * leaves\n",
    "\n",
    "print(\"Total leaves:\", total_leaves)"
   ]
  },
  {
   "cell_type": "code",
   "execution_count": 14,
   "id": "851d0a37",
   "metadata": {},
   "outputs": [],
   "source": [
    "# The column country has a hidden string as prefix '\\xa0'\n",
    "# This can happen during import. It is important to remove this\n",
    "# Write code to remove it from column 'Country'\n",
    "\n",
    "\n",
    "# --- write code below this line ---\n",
    "\n",
    "pop['Country'] = pop['Country'].str.replace('\\xa0', '')"
   ]
  },
  {
   "cell_type": "code",
   "execution_count": 14,
   "id": "505013f3",
   "metadata": {},
   "outputs": [
    {
     "name": "stdout",
     "output_type": "stream",
     "text": [
      "Before: (250, 6)\n",
      "After: (248, 6)\n"
     ]
    }
   ],
   "source": [
    "# Preprocess dataframe 'pop'\n",
    "#1: Remove commmas from numeric values\n",
    "#2: convert numeric columns to float\n",
    "\n",
    "#3:\n",
    "# print('Before:',pop.shape)\n",
    "# Then, remove all rows that have the word 'World' in the 'Country' column\n",
    "# print('After:', pop.shape)\n",
    "# Notice that the number of rows should be lesser!\n",
    "#Hint: pop = pop[~pop['Country'].str.contains('World')]\n",
    "\n",
    "# --- \n",
    "\n",
    "#1,2:\n",
    "for col in pop.columns:\n",
    "    if(col !='Country'):\n",
    "        pop[col] = pop[col].str.replace(',', '')\n",
    "        pop[col] = pop[col].astype('float')\n",
    "    \n",
    "#3:\n",
    "print('Before:',pop.shape)\n",
    "pop = pop[~pop['Country'].str.contains('World')]\n",
    "print('After:', pop.shape)\n",
    "\n"
   ]
  },
  {
   "cell_type": "markdown",
   "id": "eb72a495",
   "metadata": {},
   "source": [
    "### Data Exploration"
   ]
  },
  {
   "cell_type": "code",
   "execution_count": 15,
   "id": "b0ce514c",
   "metadata": {},
   "outputs": [
    {
     "name": "stdout",
     "output_type": "stream",
     "text": [
      "Highest population density: 20806.0\n",
      "Country with highest population density: Macau\n"
     ]
    }
   ],
   "source": [
    "# use 'pop'\n",
    "#1: find highest population density per square km\n",
    "#2: find country with highest population density\n",
    "\n",
    "# --- \n",
    "\n",
    "#1: find highest population density per square km\n",
    "highest_pop = pop['pop_den_per_km2'].max()\n",
    "print(\"Highest population density:\", highest_pop)\n",
    "\n",
    "#2: find country with highest population density\n",
    "country = pop[pop['pop_den_per_km2']==highest_pop]['Country'].values[0]\n",
    "print(\"Country with highest population density:\", country)"
   ]
  },
  {
   "cell_type": "code",
   "execution_count": 16,
   "id": "aec3b3a1",
   "metadata": {},
   "outputs": [
    {
     "name": "stdout",
     "output_type": "stream",
     "text": [
      "Lowest population density: 0.03\n",
      "Country with lowest population density: Greenland(Denmark)\n"
     ]
    }
   ],
   "source": [
    "# use 'pop'\n",
    "#1: find lowest population density per square km\n",
    "#2: find country with lowest population density\n",
    "\n",
    "# ---\n",
    "\n",
    "#1: find lowest population density per square km\n",
    "lowest_pop = pop['pop_den_per_km2'].min()\n",
    "print(\"Lowest population density:\", lowest_pop)\n",
    "\n",
    "#2: find country with lowest population density\n",
    "country = pop[pop['pop_den_per_km2']==lowest_pop]['Country'].values[0]\n",
    "print(\"Country with lowest population density:\", country)"
   ]
  },
  {
   "cell_type": "code",
   "execution_count": 34,
   "id": "7827078d",
   "metadata": {},
   "outputs": [
    {
     "name": "stdout",
     "output_type": "stream",
     "text": [
      "total_sum_of_squares =  20.681494417412495\n"
     ]
    }
   ],
   "source": [
    "#0: create a copy of 'pop' in 'df'\n",
    "#1: calculate the population per square km and put it in a new column 'calc_pop_den_sqkm'\n",
    "#2: calculate the difference in values between 'calc_pop_den_sqkm' and 'pop_den_per_km2' and put in column 'pop_den_diff'\n",
    "#3: square the difference  from 2 and save in column 'squared_diff' Hint: .apply()\n",
    "#4: calculate sum of the column 'squared_diff' and save in variable 'total_sum_of_squares'\n",
    "# Print expected output and comment\n",
    "\n",
    "# --- \n",
    "\n",
    "# 0:\n",
    "df = pop.copy()\n",
    "\n",
    "# drop rows where area==0 because area is zero\n",
    "df = df[df['area_sq_km']>0.0]\n",
    "\n",
    "# 1:\n",
    "df['calc_pop_den_sqkm'] = df['population']/df['area_sq_km']\n",
    "\n",
    "# 2:\n",
    "#df['pop_den_diff'] = df['calc_pop_den_sqkm'] - df['calc_pop_den_sqkm'] # ERROR\n",
    "\n",
    "# -- replace inf with zero\n",
    "\n",
    "df['pop_den_diff'] = df['calc_pop_den_sqkm'] - df['pop_den_per_km2']\n",
    "\n",
    "\n",
    "# 3:\n",
    "df['squared_diff'] = df['pop_den_diff'].apply(np.square)\n",
    "\n",
    "# 4:\n",
    "total_sum_of_squares = df['squared_diff'].sum()\n",
    "\n",
    "print(\"total_sum_of_squares = \", total_sum_of_squares)\n"
   ]
  },
  {
   "cell_type": "code",
   "execution_count": 19,
   "id": "279e1b00",
   "metadata": {},
   "outputs": [
    {
     "name": "stdout",
     "output_type": "stream",
     "text": [
      "country =\n",
      " ['Macau', 'Monaco', 'Maldives', 'Malta', 'Mayotte(France)', 'Mauritius', 'Martinique(France)', 'Marshall Islands[note 3]', 'Micronesia[note 4]', 'Malawi', 'Moldova', 'Malaysia', 'Morocco', 'Myanmar', 'Mexico', 'Montserrat(BOT)', 'Montenegro', 'Madagascar', 'Mozambique', 'Mali', 'Mauritania', 'Mongolia']\n",
      "\n",
      "Countries start with \"M\" are 22\n",
      "\n",
      "Countries 4 letter words ['Mali']\n"
     ]
    }
   ],
   "source": [
    "# use pop\n",
    "#1: save names of all countries into a list 'country'\n",
    "#2: keep only those country names that start with the letter 'M'\n",
    "#3: how many countries are these?\n",
    "#4: from this list, print only countries with four letter words\n",
    "\n",
    "# --- \n",
    "\n",
    "# 1:\n",
    "country = list(pop['Country'])\n",
    "\n",
    "# 2:\n",
    "country = [c for c in country if(c[0]=='M') ]\n",
    "print('country =\\n', country)\n",
    "\n",
    "#3:\n",
    "len_country = len(country)\n",
    "print('\\nCountries start with \"M\" are', len_country)\n",
    "\n",
    "#4:\n",
    "four_letter_country = [c for c in country if(len(c)==4)]\n",
    "print('\\nCountries 4 letter words', four_letter_country)"
   ]
  },
  {
   "cell_type": "code",
   "execution_count": 20,
   "id": "f7cd77da",
   "metadata": {},
   "outputs": [
    {
     "name": "stdout",
     "output_type": "stream",
     "text": [
      "Population density of Malta (per sq. km.): 1667.0\n"
     ]
    }
   ],
   "source": [
    "# use pop\n",
    "# using indexing find the population density per square km of country 'Malta'\n",
    "\n",
    "# --- \n",
    "\n",
    "malta_pop_den = pop[pop['Country']=='Malta']['pop_den_per_km2'].values[0]\n",
    "print(\"Population density of Malta (per sq. km.):\", malta_pop_den)"
   ]
  },
  {
   "cell_type": "code",
   "execution_count": 21,
   "id": "5be7720a",
   "metadata": {},
   "outputs": [
    {
     "name": "stdout",
     "output_type": "stream",
     "text": [
      "Mean area (sq.km.): 545636.9677419355 SD area: 1696921.636869445\n"
     ]
    }
   ],
   "source": [
    "# use pop\n",
    "#1: get values form the column 'area_sq_km' and save in an array 'area'\n",
    "#2: find mean and standard deviation for area\n",
    "# Print output\n",
    "\n",
    "# --- \n",
    "\n",
    "#1:\n",
    "area = pop['area_sq_km'].to_numpy()\n",
    "\n",
    "#2:\n",
    "area_mean = np.mean(area)\n",
    "area_std = np.std(area)\n",
    "\n",
    "print(\"Mean area (sq.km.):\", area_mean, \"SD area:\", area_std)"
   ]
  },
  {
   "cell_type": "code",
   "execution_count": 22,
   "id": "a2e1ebdc",
   "metadata": {},
   "outputs": [
    {
     "name": "stdout",
     "output_type": "stream",
     "text": [
      "Country with highest population: China\n",
      "Country with highest area (sq.miles): Russia[note 12]\n",
      "pop_max =  1425893465.0\n",
      "area_max = 6601633.0\n",
      "Not same!\n"
     ]
    }
   ],
   "source": [
    "# use pop\n",
    "#0: create a copy of pop in df and remove all rows that have the 'World' in the 'Country' column\n",
    "#1: find the country with largest population as 'pop_max'\n",
    "#2: find the country with largest arean in square miles as 'area_max'\n",
    "#3: If they are the same print \"Yes same!\" else 'Not same!'\n",
    "\n",
    "# --- \n",
    "\n",
    "#1:\n",
    "pop_max = pop['population'].max()\n",
    "pop_max_country = pop[pop['population']==pop_max]['Country'].values[0]\n",
    "print(\"Country with highest population:\", pop_max_country)\n",
    "\n",
    "#2:\n",
    "area_max = pop['area_sqmi'].max()\n",
    "area_max_country = pop[pop['area_sqmi']==area_max]['Country'].values[0]\n",
    "print(\"Country with highest area (sq.miles):\", area_max_country)\n",
    "\n",
    "print(\"pop_max = \", pop_max)\n",
    "print(\"area_max =\", area_max)\n",
    "\n",
    "#3:\n",
    "if(pop_max_country == area_max_country):\n",
    "    print(\"Yes same!\")\n",
    "else:\n",
    "    print(\"Not same!\")"
   ]
  },
  {
   "cell_type": "code",
   "execution_count": 23,
   "id": "f7fb14cb",
   "metadata": {},
   "outputs": [
    {
     "data": {
      "image/png": "[encoded data removed]",
      "text/plain": [
       "<Figure size 720x360 with 2 Axes>"
      ]
     },
     "metadata": {
      "needs_background": "light"
     },
     "output_type": "display_data"
    }
   ],
   "source": [
    "# use pop\n",
    "#1: create df1 with columns 'Country' and 'population'. Sort by 'population' high to low\n",
    "#1A: subset df1 with top 10 rows with highest values\n",
    "#1C: create subplot bar plot with 'Country' on x-axis and 'population' on y-axis\n",
    "\n",
    "#2: create df2 with columns 'Country' and 'pop_den_per_km2'. Sort by 'pop_den_per_km2' \n",
    "#2A: subset df2 with top 10 rows with highest values\n",
    "#2B: create subplot bar plot with 'Country on x-axis' and 'pop_den_per_km2' on y-axis\n",
    "\n",
    "# Hint:\n",
    "# plt.barh()\n",
    "\n",
    "# --- \n",
    "\n",
    "#1:\n",
    "df1 = pop[['Country', 'population']].sort_values(by=['population'], ascending=False)\n",
    "df1 = df1.head(10)\n",
    "\n",
    "#2:\n",
    "df2 = pop[['Country', 'pop_den_per_km2']].sort_values(by=['pop_den_per_km2'], ascending=False)\n",
    "df2 = df2.head(10)\n",
    "\n",
    "#1C:\n",
    "plt.figure(figsize=(10,5))\n",
    "plt.subplot(1,2,1)\n",
    "plt.barh(df1['Country'], df1['population'])\n",
    "plt.subplot(1,2,2)\n",
    "plt.barh(df2['Country'], df2['pop_den_per_km2'])\n",
    "\n",
    "plt.tight_layout()\n",
    "plt.show()"
   ]
  },
  {
   "cell_type": "code",
   "execution_count": 24,
   "id": "3a92ca79",
   "metadata": {},
   "outputs": [
    {
     "name": "stdout",
     "output_type": "stream",
     "text": [
      "shape:\n",
      " (248, 5) \n",
      "\n",
      "size:\n",
      " 1240 \n",
      "\n",
      "type:\n",
      " <class 'numpy.ndarray'> \n",
      "\n",
      "new_num:\n",
      " [[ 686607.      33.      13.]\n",
      " [  36686.       2.       1.]\n",
      " [5453600.     716.     276.]\n",
      " [7494578.    1104.     426.]\n",
      " [  32669.       6.       2.]]\n",
      "col_mean: [2740828.      372.2     143.6]\n",
      "col_std: [3124855.32557173     456.05631231     175.90974959]\n",
      "new_num:\n",
      " [[-0.65738115 -0.7437678  -0.74242616]\n",
      " [-0.8653655  -0.81174186 -0.81064296]\n",
      " [ 0.86812723  0.75385427  0.75265868]\n",
      " [ 1.52127043  1.6046264   1.60536867]\n",
      " [-0.866651   -0.80297102 -0.80495823]]\n",
      "\n",
      "numbers_col_min: [47.    0.    0.    0.03  0.07]\n",
      "numbers_col_max: [1.42589346e+09 1.70982460e+07 6.60163300e+06 2.08060000e+04\n",
      " 5.38880000e+04]\n",
      "new_num_col_min: [-0.866651   -0.81174186 -0.81064296]\n",
      "new_num_col_max: [1.52127043 1.6046264  1.60536867]\n"
     ]
    }
   ],
   "source": [
    "# use pop\n",
    "#1: Create an array 'numbers' with numeric columns from pop\n",
    "# such that each column in datafram is a column in the array\n",
    "# print its shape, size, type\n",
    "\n",
    "#2: Slice the array to get first 5 rows and 3 columns and save in 'new_num' again\n",
    "#2: Zero mean and scale values in each column that is:\n",
    "# 2a- subtract each value in a column by its respective column mean\n",
    "# 2b- then, divide the value from 2a by column standard deviation\n",
    "# then print output array\n",
    "\n",
    "#3- print min and max values for each column in 'numbers' and 'new_num'. \n",
    "# Comment on how values between these two arrays compare with each other.\n",
    "\n",
    "\n",
    "# --- \n",
    "\n",
    "#1:\n",
    "numbers = pop.iloc[:,1:].to_numpy()\n",
    "\n",
    "print(\"shape:\\n\", numbers.shape, \"\\n\")\n",
    "print(\"size:\\n\", numbers.size, \"\\n\")\n",
    "print(\"type:\\n\", type(numbers), \"\\n\")\n",
    "\n",
    "#2:\n",
    "new_num = numbers[0:5,0:3]\n",
    "print('new_num:\\n', new_num)\n",
    "col_mean = np.mean(new_num, axis=0)\n",
    "print('col_mean:', col_mean)\n",
    "col_std = np.std(new_num, axis=0)\n",
    "print('col_std:', col_std)\n",
    "new_num = (new_num - col_mean)/col_std\n",
    "print('new_num:\\n', new_num)\n",
    "\n",
    "#3:\n",
    "numbers_col_min = np.min(numbers, axis=0)\n",
    "numbers_col_max = np.max(numbers, axis=0)\n",
    "\n",
    "new_num_col_min = np.min(new_num, axis=0)\n",
    "new_num_col_max = np.max(new_num, axis=0)\n",
    "\n",
    "print('\\nnumbers_col_min:', numbers_col_min)\n",
    "print('numbers_col_max:', numbers_col_max)\n",
    "print('new_num_col_min:', new_num_col_min)\n",
    "print('new_num_col_max:', new_num_col_max)\n"
   ]
  },
  {
   "cell_type": "code",
   "execution_count": 25,
   "id": "1b39dada",
   "metadata": {},
   "outputs": [
    {
     "name": "stdout",
     "output_type": "stream",
     "text": [
      "countries:\n",
      " ['Afghanistan', 'Albania', 'Algeria', 'American Samoa(US)', 'Andorra', 'Angola', 'Anguilla(BOT)', 'Antigua and Barbuda', 'Argentina', 'Armenia', 'Artsakh[note 10]', 'Aruba(Netherlands)', 'Australia', 'Austria', 'Azerbaijan', 'Bahamas', 'Bahrain', 'Bangladesh', 'Barbados', 'Belarus', 'Belgium', 'Belize', 'Benin', 'Bermuda(BOT)', 'Bhutan', 'Bolivia', 'Bonaire(Netherlands)', 'Bosnia and Herzegovina', 'Botswana', 'Brazil', 'British Virgin Islands(BOT)', 'Brunei', 'Bulgaria', 'Burkina Faso', 'Burundi', 'Cambodia', 'Cameroon', 'Canada', 'Cape Verde', 'Cayman Islands(BOT)', 'Central African Republic', 'Chad', 'Chile', 'China', 'Christmas Island(Australia)', 'Cocos (Keeling) Islands(Australia)', 'Colombia', 'Comoros', 'Congo', 'Cook Islands[note 7]', 'Costa Rica', 'Croatia', 'Cuba', 'Curaçao(Netherlands)', 'Cyprus[note 5]', 'Czech Republic', 'DR Congo', 'Denmark', 'Djibouti', 'Dominica', 'Dominican Republic']\n",
      "\n",
      "d:\n",
      " {'A': ['Afghanistan', 'Albania', 'Algeria', 'American Samoa(US)', 'Andorra', 'Angola', 'Anguilla(BOT)', 'Antigua and Barbuda', 'Argentina', 'Armenia', 'Artsakh[note 10]', 'Aruba(Netherlands)', 'Australia', 'Austria', 'Azerbaijan'], 'B': ['Bahamas', 'Bahrain', 'Bangladesh', 'Barbados', 'Belarus', 'Belgium', 'Belize', 'Benin', 'Bermuda(BOT)', 'Bhutan', 'Bolivia', 'Bonaire(Netherlands)', 'Bosnia and Herzegovina', 'Botswana', 'Brazil', 'British Virgin Islands(BOT)', 'Brunei', 'Bulgaria', 'Burkina Faso', 'Burundi'], 'C': ['Cambodia', 'Cameroon', 'Canada', 'Cape Verde', 'Cayman Islands(BOT)', 'Central African Republic', 'Chad', 'Chile', 'China', 'Christmas Island(Australia)', 'Cocos (Keeling) Islands(Australia)', 'Colombia', 'Comoros', 'Congo', 'Cook Islands[note 7]', 'Costa Rica', 'Croatia', 'Cuba', 'Curaçao(Netherlands)', 'Cyprus[note 5]', 'Czech Republic'], 'D': ['DR Congo', 'Denmark', 'Djibouti', 'Dominica', 'Dominican Republic']}\n"
     ]
    }
   ],
   "source": [
    "# use pop\n",
    "#0: Create a list countries with values from column 'Country'. \n",
    "#0A: Filter it to keep only those country names that start with letters, A, B, C, and D\n",
    "#0B: Sort the list in ascending order i.e. from A to D\n",
    "\n",
    "#1: Create an empty dictionary 'd' with empty lists for keys 'A', 'B', 'C', 'D'\n",
    "# append values for countries starting with respective alphabet of a key\n",
    "# For example: key 'A' would have all countries with names ['Andorra', 'Anguilla(BOT)' ...]\n",
    "\n",
    "# Hint:\n",
    "# .to_list()\n",
    "\n",
    "# --- \n",
    "\n",
    "#0: Create list\n",
    "countries = pop['Country'].to_list()\n",
    "countries = [country for country in countries if (country[0] in ['A', 'B', 'C', 'D'])]\n",
    "countries.sort()\n",
    "print('countries:\\n', countries)\n",
    "\n",
    "#1: Create dictionary\n",
    "d = {'A':[], 'B':[], 'C':[], 'D':[]}\n",
    "for country in countries:\n",
    "    if(country[0]=='A'):\n",
    "        d['A'].append(country)\n",
    "    elif(country[0]=='B'):\n",
    "        d['B'].append(country)\n",
    "    elif(country[0]=='C'):\n",
    "        d['C'].append(country)\n",
    "    elif(country[0]=='D'):\n",
    "        d['D'].append(country)\n",
    "    \n",
    "print('\\nd:\\n',d)\n"
   ]
  },
  {
   "cell_type": "code",
   "execution_count": 26,
   "id": "1a92ab90",
   "metadata": {},
   "outputs": [
    {
     "name": "stderr",
     "output_type": "stream",
     "text": [
      "/opt/anaconda3/lib/python3.8/site-packages/pandas/core/arraylike.py:397: RuntimeWarning: divide by zero encountered in log\n",
      "  result = getattr(ufunc, method)(*inputs, **kwargs)\n"
     ]
    },
    {
     "data": {
      "image/png": "[encoded data removed]",
      "text/plain": [
       "<Figure size 720x360 with 2 Axes>"
      ]
     },
     "metadata": {
      "needs_background": "light"
     },
     "output_type": "display_data"
    }
   ],
   "source": [
    "# use pop\n",
    "# create scatter plots as subplots for two items below\n",
    "#1: population and area_sqmi\n",
    "#2: np.log(population) and np.log(area_sqmi)\n",
    "\n",
    "# Learn this!\n",
    "# Taking a logarithm of values makes small values larger so that we can see it on a plot\n",
    "# Do you see them in plot #2 ?\n",
    "\n",
    "# --- write code below this line ---\n",
    "\n",
    "plt.figure(figsize=(10,5))\n",
    "\n",
    "plt.subplot(1,2,1)\n",
    "plt.scatter(pop['population'], pop['area_sqmi'])\n",
    "plt.title('original')\n",
    "plt.xlabel('population')\n",
    "plt.ylabel('area_sqmi')\n",
    "\n",
    "plt.subplot(1,2,2)\n",
    "plt.scatter(np.log(pop['population']), np.log(pop['area_sqmi']))\n",
    "plt.title('original')\n",
    "plt.xlabel('log[population]')\n",
    "plt.ylabel('log[area_sqmi]')\n",
    "\n",
    "plt.tight_layout\n",
    "plt.show()"
   ]
  },
  {
   "cell_type": "code",
   "execution_count": 27,
   "id": "5ca277ad",
   "metadata": {},
   "outputs": [
    {
     "data": {
      "image/png": "[encoded data removed]",
      "text/plain": [
       "<Figure size 432x288 with 1 Axes>"
      ]
     },
     "metadata": {
      "needs_background": "light"
     },
     "output_type": "display_data"
    },
    {
     "data": {
      "text/html": [
       "<div>\n",
       "<style scoped>\n",
       "    .dataframe tbody tr th:only-of-type {\n",
       "        vertical-align: middle;\n",
       "    }\n",
       "\n",
       "    .dataframe tbody tr th {\n",
       "        vertical-align: top;\n",
       "    }\n",
       "\n",
       "    .dataframe thead th {\n",
       "        text-align: right;\n",
       "    }\n",
       "</style>\n",
       "<table border=\"1\" class=\"dataframe\">\n",
       "  <thead>\n",
       "    <tr style=\"text-align: right;\">\n",
       "      <th></th>\n",
       "      <th>Country</th>\n",
       "      <th>population</th>\n",
       "      <th>class</th>\n",
       "    </tr>\n",
       "  </thead>\n",
       "  <tbody>\n",
       "    <tr>\n",
       "      <th>29</th>\n",
       "      <td>India</td>\n",
       "      <td>1.407564e+09</td>\n",
       "      <td>very_high</td>\n",
       "    </tr>\n",
       "    <tr>\n",
       "      <th>84</th>\n",
       "      <td>China</td>\n",
       "      <td>1.425893e+09</td>\n",
       "      <td>very_high</td>\n",
       "    </tr>\n",
       "  </tbody>\n",
       "</table>\n",
       "</div>"
      ],
      "text/plain": [
       "   Country    population      class\n",
       "29   India  1.407564e+09  very_high\n",
       "84   China  1.425893e+09  very_high"
      ]
     },
     "execution_count": 27,
     "metadata": {},
     "output_type": "execute_result"
    }
   ],
   "source": [
    "#1:\n",
    "# create a copy of 'pop' in 'df'\n",
    "# subset df to keep only two columns 'Country' and 'population'\n",
    "# create a new column 'class' in 'df' such that it has values:\n",
    "# 'low' if population <= 1000000\n",
    "# 'medium' if  1000000 < population <= 500000000\n",
    "# 'high' if 500000000 < population <= 1000000000\n",
    "# 'very_high' if population > 1000000000 \n",
    "\n",
    "\n",
    "#2:\n",
    "# use line of code below to create to group values\n",
    "# dfa = df.groupby(['class'])['Country'].count().reset_index().rename(columns={'Country':'count'})\n",
    "# Then use: sns.barplot(data=dfa, x=\"class\", y=\"count\") to create a bar plot\n",
    "# What do you see? Comment!\n",
    "\n",
    "#3:\n",
    "# print countries with very_high population in df\n",
    "\n",
    "# --- \n",
    "\n",
    "#1:\n",
    "df = pop.copy()\n",
    "df = df[['Country', 'population']]\n",
    "\n",
    "df['class'] = np.where((df['population']<1000000), 'low', \n",
    "                np.where(((df['population']>1000000) & (df['population']<=500000000)), 'medium',\n",
    "                    np.where(((df['population']>500000000) & (df['population']<=1000000000)), 'high',\n",
    "                       'very_high' )))\n",
    "\n",
    "\n",
    "#2:\n",
    "dfa = df.groupby(['class'])['Country'].count().reset_index().rename(columns={'Country':'count'})\n",
    "sns.barplot(data=dfa, x=\"class\", y=\"count\")\n",
    "plt.show()\n",
    "\n",
    "\n",
    "#3:\n",
    "very_high_countries = df[df['class']=='very_high']\n",
    "very_high_countries\n"
   ]
  },
  {
   "cell_type": "code",
   "execution_count": 28,
   "id": "d9d6ee05",
   "metadata": {},
   "outputs": [
    {
     "data": {
      "image/png": "[encoded data removed]",
      "text/plain": [
       "<Figure size 432x288 with 1 Axes>"
      ]
     },
     "metadata": {
      "needs_background": "light"
     },
     "output_type": "display_data"
    }
   ],
   "source": [
    "# use pop\n",
    "# Create a scatter plot of 'pop_den_per_km2' vs. 'pop_den_per_sqmi'\n",
    "# Do you see any trend? Comment why?\n",
    "\n",
    "# --- \n",
    "\n",
    "plt.scatter(pop['pop_den_per_km2'], pop['pop_den_per_sqmi'])\n",
    "plt.xlabel('pop_den_per_km2')\n",
    "plt.ylabel('pop_den_per_sqmi')\n",
    "plt.title('Population density')\n",
    "plt.show()"
   ]
  },
  {
   "cell_type": "code",
   "execution_count": 29,
   "id": "9b7fae53",
   "metadata": {},
   "outputs": [
    {
     "name": "stdout",
     "output_type": "stream",
     "text": [
      "India\n",
      "Kerala\n",
      "USA\n",
      "California\n"
     ]
    }
   ],
   "source": [
    "# Question - 24\n",
    "\n",
    "geo = ['India', ['Maharashtra','Gujarat',['Kerala']], 'USA', [['Texas',['California']], 'Nebraska']]\n",
    "\n",
    "# write code using indices to  print\n",
    "# 'India'\n",
    "# 'Kerala' \n",
    "# 'USA'\n",
    "# 'California'\n",
    "\n",
    "# --- write code below this line  ---\n",
    "\n",
    "item = geo[0]\n",
    "print(item)\n",
    "\n",
    "item = geo[1][2][0]\n",
    "print(item)\n",
    "\n",
    "\n",
    "item = geo[2]\n",
    "print(item)\n",
    "\n",
    "item = geo[3][0][1][0]\n",
    "print(item)\n",
    "\n"
   ]
  },
  {
   "cell_type": "markdown",
   "id": "e43498f5",
   "metadata": {},
   "source": [
    "### Read data"
   ]
  },
  {
   "cell_type": "code",
   "execution_count": 32,
   "id": "2199ac26",
   "metadata": {},
   "outputs": [
    {
     "name": "stdout",
     "output_type": "stream",
     "text": [
      "shape: (73, 11)\n",
      "\n",
      "data types:\n",
      " Year                             object\n",
      "Mid-year population              object\n",
      "Births per year                  object\n",
      "Deaths per year                  object\n",
      "Natural change per year          object\n",
      "Crude birth rate\\n(per 1000)    float64\n",
      "Crude death rate\\n(per 1000)    float64\n",
      "Natural change\\n(per 1000)      float64\n",
      "Total Fertility rate            float64\n",
      "Infant mortality (per 1000)     float64\n",
      "Life expectancy                 float64\n",
      "dtype: object\n",
      "\n",
      "number of rows: 73\n",
      "\n",
      "number of columns: 11\n",
      "\n",
      "missing value count:\n",
      " Year                            0\n",
      "Mid-year population             1\n",
      "Births per year                 1\n",
      "Deaths per year                 1\n",
      "Natural change per year         1\n",
      "Crude birth rate\\n(per 1000)    1\n",
      "Crude death rate\\n(per 1000)    1\n",
      "Natural change\\n(per 1000)      1\n",
      "Total Fertility rate            1\n",
      "Infant mortality (per 1000)     1\n",
      "Life expectancy                 1\n",
      "dtype: int64\n",
      "total number of values: 803\n"
     ]
    }
   ],
   "source": [
    "#A:\n",
    "# Read file 'population_india.tsv' (tst --> tab separated)\n",
    "# using the method shown Q#1\n",
    "# and save it into a dataframe 'popi'\n",
    "\n",
    "#B:\n",
    "#1: shape \n",
    "#2: data types in each column\n",
    "#3: number of rows\n",
    "#4: number of columns\n",
    "#5: check for missing values in each columns. Hint: .isna().sum()\n",
    "#6: total number of values\n",
    "\n",
    "# ---\n",
    "\n",
    "#A:\n",
    "path = '/Users/erv/Desktop/learndataa/Students/Python/Exams_Exercise/Exam_3/data/'\n",
    "popi = pd.read_csv(path + 'population_india.tsv', sep='\\t')\n",
    "\n",
    "#1: shape \n",
    "print(\"shape:\", popi.shape)\n",
    "\n",
    "#2: dtypes\n",
    "print('\\ndata types:\\n', popi.dtypes)\n",
    "\n",
    "#3: number of rows\n",
    "print(\"\\nnumber of rows:\", len(popi))\n",
    "\n",
    "#4: number of columns\n",
    "print(\"\\nnumber of columns:\", popi.shape[1])\n",
    "\n",
    "#5: check for missing values in each columns. Hint: .isna().sum()\n",
    "print('\\nmissing value count:\\n', popi.isna().sum())\n",
    "\n",
    "#6: total number of values\n",
    "print('total number of values:', popi.size)"
   ]
  },
  {
   "cell_type": "code",
   "execution_count": 34,
   "id": "4af7de23",
   "metadata": {},
   "outputs": [
    {
     "name": "stdout",
     "output_type": "stream",
     "text": [
      "Before: (73, 11)\n",
      "After: (72, 11)\n"
     ]
    }
   ],
   "source": [
    "#1: remove all rows with missing values. \n",
    "#1a: Print dataframe shape before and after values are dropped.\n",
    "#1b: Check again for missing values in each column. They should be zero. Hint: popi.isna().sum()\n",
    "# Hint: popi = popi.dropna()\n",
    "\n",
    "# --- write code below this line ---\n",
    "\n",
    "print('Before:', popi.shape)\n",
    "popi = popi.dropna()\n",
    "print('After:', popi.shape)"
   ]
  },
  {
   "cell_type": "code",
   "execution_count": 35,
   "id": "9dfdc4c8",
   "metadata": {
    "scrolled": false
   },
   "outputs": [
    {
     "name": "stdout",
     "output_type": "stream",
     "text": [
      "Year                              int64\n",
      "Mid-year population             float64\n",
      "Births per year                 float64\n",
      "Deaths per year                 float64\n",
      "Natural change per year         float64\n",
      "Crude birth rate\\n(per 1000)    float64\n",
      "Crude death rate\\n(per 1000)    float64\n",
      "Natural change\\n(per 1000)      float64\n",
      "Total Fertility rate            float64\n",
      "Infant mortality (per 1000)     float64\n",
      "Life expectancy                 float64\n",
      "dtype: object\n"
     ]
    },
    {
     "data": {
      "text/html": [
       "<div>\n",
       "<style scoped>\n",
       "    .dataframe tbody tr th:only-of-type {\n",
       "        vertical-align: middle;\n",
       "    }\n",
       "\n",
       "    .dataframe tbody tr th {\n",
       "        vertical-align: top;\n",
       "    }\n",
       "\n",
       "    .dataframe thead th {\n",
       "        text-align: right;\n",
       "    }\n",
       "</style>\n",
       "<table border=\"1\" class=\"dataframe\">\n",
       "  <thead>\n",
       "    <tr style=\"text-align: right;\">\n",
       "      <th></th>\n",
       "      <th>Year</th>\n",
       "      <th>Mid-year population</th>\n",
       "      <th>Births per year</th>\n",
       "      <th>Deaths per year</th>\n",
       "      <th>Natural change per year</th>\n",
       "      <th>Crude birth rate\\n(per 1000)</th>\n",
       "      <th>Crude death rate\\n(per 1000)</th>\n",
       "      <th>Natural change\\n(per 1000)</th>\n",
       "      <th>Total Fertility rate</th>\n",
       "      <th>Infant mortality (per 1000)</th>\n",
       "      <th>Life expectancy</th>\n",
       "    </tr>\n",
       "  </thead>\n",
       "  <tbody>\n",
       "    <tr>\n",
       "      <th>0</th>\n",
       "      <td>1950</td>\n",
       "      <td>357021000.0</td>\n",
       "      <td>15651000.0</td>\n",
       "      <td>7942000.0</td>\n",
       "      <td>7709000.0</td>\n",
       "      <td>43.8</td>\n",
       "      <td>22.2</td>\n",
       "      <td>21.6</td>\n",
       "      <td>5.73</td>\n",
       "      <td>181.2</td>\n",
       "      <td>41.7</td>\n",
       "    </tr>\n",
       "    <tr>\n",
       "      <th>1</th>\n",
       "      <td>1951</td>\n",
       "      <td>364922000.0</td>\n",
       "      <td>16042000.0</td>\n",
       "      <td>8171000.0</td>\n",
       "      <td>7871000.0</td>\n",
       "      <td>44.0</td>\n",
       "      <td>22.4</td>\n",
       "      <td>21.6</td>\n",
       "      <td>5.77</td>\n",
       "      <td>180.1</td>\n",
       "      <td>41.7</td>\n",
       "    </tr>\n",
       "    <tr>\n",
       "      <th>2</th>\n",
       "      <td>1952</td>\n",
       "      <td>372997000.0</td>\n",
       "      <td>16458000.0</td>\n",
       "      <td>8293000.0</td>\n",
       "      <td>8165000.0</td>\n",
       "      <td>44.1</td>\n",
       "      <td>22.2</td>\n",
       "      <td>21.9</td>\n",
       "      <td>5.82</td>\n",
       "      <td>177.5</td>\n",
       "      <td>42.0</td>\n",
       "    </tr>\n",
       "  </tbody>\n",
       "</table>\n",
       "</div>"
      ],
      "text/plain": [
       "   Year  Mid-year population  Births per year  Deaths per year  Natural change per year  Crude birth rate\\n(per 1000)  Crude death rate\\n(per 1000)  Natural change\\n(per 1000)  Total Fertility rate  Infant mortality (per 1000)  Life expectancy\n",
       "0  1950          357021000.0       15651000.0        7942000.0                7709000.0                          43.8                          22.2                        21.6                  5.73                        181.2             41.7\n",
       "1  1951          364922000.0       16042000.0        8171000.0                7871000.0                          44.0                          22.4                        21.6                  5.77                        180.1             41.7\n",
       "2  1952          372997000.0       16458000.0        8293000.0                8165000.0                          44.1                          22.2                        21.9                  5.82                        177.5             42.0"
      ]
     },
     "execution_count": 35,
     "metadata": {},
     "output_type": "execute_result"
    }
   ],
   "source": [
    "# use 'popi' from Q#26\n",
    "#1:\n",
    "# Convert columns below to float:\n",
    "# - 'Mid-year population'\n",
    "# - 'Births per year'\n",
    "# - 'Deaths per year'\n",
    "# - 'Natural change per year'\n",
    "# Hint: remove the commas before converting \n",
    "\n",
    "#2:\n",
    "# Convert column 'Year' to datetime\n",
    "#Hint: popi['Year'] = pd.to_datetime(popi.loc[:,'Year'])\n",
    "\n",
    "#3:\n",
    "# print data types for preprocessed dataframe popi\n",
    "\n",
    "#4:\n",
    "# output dataframe popi.head(3)\n",
    "\n",
    "# ---  \n",
    "\n",
    "\n",
    "#1:\n",
    "# Convert columns below to float:\n",
    "# - 'Mid-year population'\n",
    "# replace commas\n",
    "popi['Mid-year population'] = popi['Mid-year population'].str.replace(',','')\n",
    "popi['Mid-year population'] = popi['Mid-year population'].astype(float)\n",
    "\n",
    "# - 'Births per year'\n",
    "popi['Births per year'] = popi['Births per year'].str.replace(',','').astype(float)\n",
    "\n",
    "# - 'Deaths per year'\n",
    "popi['Deaths per year'] = popi['Deaths per year'].str.replace(',','').astype(float)\n",
    "\n",
    "# - 'Natural change per year'\n",
    "# Hint: remove the commas before converting \n",
    "popi['Natural change per year'] = popi['Natural change per year'].str.replace(',','').astype(float)\n",
    "\n",
    "\n",
    "#2:\n",
    "# Convert column 'Year' to datetime\n",
    "#Hint: popi['Year'] = pd.to_datetime(popi.loc[:,'Year'])\n",
    "# How would you then get the year from the date?\n",
    "popi['Year'] = pd.to_datetime(popi.loc[:,'Year']).dt.year\n",
    "\n",
    "#3:\n",
    "# print data types for preprocessed dataframe popi\n",
    "print(popi.dtypes)\n",
    "\n",
    "#4:\n",
    "popi.head(3)"
   ]
  },
  {
   "cell_type": "code",
   "execution_count": 36,
   "id": "57627d0b",
   "metadata": {},
   "outputs": [
    {
     "name": "stdout",
     "output_type": "stream",
     "text": [
      "Formatted column names:\n",
      " ['year', 'mid_year_population', 'births_per_year', 'deaths_per_year', 'natural_change_per_year', 'crude_birth_rate__per_1000', 'crude_death_rate__per_1000', 'natural_change__per_1000', 'total_fertility_rate', 'infant_mortality__per_1000', 'life_expectancy']\n"
     ]
    },
    {
     "data": {
      "text/html": [
       "<div>\n",
       "<style scoped>\n",
       "    .dataframe tbody tr th:only-of-type {\n",
       "        vertical-align: middle;\n",
       "    }\n",
       "\n",
       "    .dataframe tbody tr th {\n",
       "        vertical-align: top;\n",
       "    }\n",
       "\n",
       "    .dataframe thead th {\n",
       "        text-align: right;\n",
       "    }\n",
       "</style>\n",
       "<table border=\"1\" class=\"dataframe\">\n",
       "  <thead>\n",
       "    <tr style=\"text-align: right;\">\n",
       "      <th></th>\n",
       "      <th>year</th>\n",
       "      <th>mid_year_population</th>\n",
       "      <th>births_per_year</th>\n",
       "      <th>deaths_per_year</th>\n",
       "      <th>natural_change_per_year</th>\n",
       "      <th>crude_birth_rate__per_1000</th>\n",
       "      <th>crude_death_rate__per_1000</th>\n",
       "      <th>natural_change__per_1000</th>\n",
       "      <th>total_fertility_rate</th>\n",
       "      <th>infant_mortality__per_1000</th>\n",
       "      <th>life_expectancy</th>\n",
       "    </tr>\n",
       "  </thead>\n",
       "  <tbody>\n",
       "    <tr>\n",
       "      <th>0</th>\n",
       "      <td>1950</td>\n",
       "      <td>357021000.0</td>\n",
       "      <td>15651000.0</td>\n",
       "      <td>7942000.0</td>\n",
       "      <td>7709000.0</td>\n",
       "      <td>43.8</td>\n",
       "      <td>22.2</td>\n",
       "      <td>21.6</td>\n",
       "      <td>5.73</td>\n",
       "      <td>181.2</td>\n",
       "      <td>41.7</td>\n",
       "    </tr>\n",
       "    <tr>\n",
       "      <th>1</th>\n",
       "      <td>1951</td>\n",
       "      <td>364922000.0</td>\n",
       "      <td>16042000.0</td>\n",
       "      <td>8171000.0</td>\n",
       "      <td>7871000.0</td>\n",
       "      <td>44.0</td>\n",
       "      <td>22.4</td>\n",
       "      <td>21.6</td>\n",
       "      <td>5.77</td>\n",
       "      <td>180.1</td>\n",
       "      <td>41.7</td>\n",
       "    </tr>\n",
       "    <tr>\n",
       "      <th>2</th>\n",
       "      <td>1952</td>\n",
       "      <td>372997000.0</td>\n",
       "      <td>16458000.0</td>\n",
       "      <td>8293000.0</td>\n",
       "      <td>8165000.0</td>\n",
       "      <td>44.1</td>\n",
       "      <td>22.2</td>\n",
       "      <td>21.9</td>\n",
       "      <td>5.82</td>\n",
       "      <td>177.5</td>\n",
       "      <td>42.0</td>\n",
       "    </tr>\n",
       "  </tbody>\n",
       "</table>\n",
       "</div>"
      ],
      "text/plain": [
       "   year  mid_year_population  births_per_year  deaths_per_year  natural_change_per_year  crude_birth_rate__per_1000  crude_death_rate__per_1000  natural_change__per_1000  total_fertility_rate  infant_mortality__per_1000  life_expectancy\n",
       "0  1950          357021000.0       15651000.0        7942000.0                7709000.0                        43.8                        22.2                      21.6                  5.73                       181.2             41.7\n",
       "1  1951          364922000.0       16042000.0        8171000.0                7871000.0                        44.0                        22.4                      21.6                  5.77                       180.1             41.7\n",
       "2  1952          372997000.0       16458000.0        8293000.0                8165000.0                        44.1                        22.2                      21.9                  5.82                       177.5             42.0"
      ]
     },
     "execution_count": 36,
     "metadata": {},
     "output_type": "execute_result"
    }
   ],
   "source": [
    "# use 'popi' from Q#27\n",
    "# format the column names as:\n",
    "# 1- strip leading and trailing spaces \n",
    "#  - replace '-', '\\n', '(', or spaces with '_' (underscore) and ')' with '' nothing\n",
    "#  - convert text to lowercase\n",
    "#  - print column names\n",
    "# 2- rename popi with these cleaned column names\n",
    "#  - output first three rows of popi\n",
    "\n",
    "\n",
    "# --- \n",
    "\n",
    "# 1-\n",
    "cols = popi.columns\n",
    "cols = [col.strip().replace('-','_').replace('\\n','_').replace('(', '_').replace(')','').replace(' ','_').lower() for col in cols]\n",
    "print('Formatted column names:\\n', cols)\n",
    "\n",
    "# 2-\n",
    "popi.columns = cols\n",
    "popi.head(3)\n"
   ]
  },
  {
   "cell_type": "markdown",
   "id": "d1084caa",
   "metadata": {},
   "source": [
    "### Data analysis"
   ]
  },
  {
   "cell_type": "code",
   "execution_count": 37,
   "id": "e4562127",
   "metadata": {},
   "outputs": [
    {
     "data": {
      "image/png": "[encoded data removed]",
      "text/plain": [
       "<Figure size 1080x576 with 4 Axes>"
      ]
     },
     "metadata": {
      "needs_background": "light"
     },
     "output_type": "display_data"
    }
   ],
   "source": [
    "# use 'popi' from Q#28\n",
    "\n",
    "# 1- line plot: (x-axis) 'year' vs. (y-axis) 'mid_year_population'\n",
    "# 2- line plot: (x-axis) 'year' vs. (y-axis) 'births_per_year'\n",
    "# 3- line plot: (x-axis) 'year' vs. (y-axis) 'deaths_per_year'\n",
    "# 4- line plot: (x-axis) 'year' vs. (y-axis) 'natural_change_per_year'\n",
    "\n",
    "# 5- Comment on what you observe in each of the above plots. \n",
    "\n",
    "# --- \n",
    "\n",
    "# 1- \n",
    "plt.figure(figsize=(15,8))\n",
    "\n",
    "plt.subplot(2,2,1)\n",
    "plt.plot(popi['year'], popi['mid_year_population'], marker='x')\n",
    "plt.xlabel('Year')\n",
    "plt.ylabel('Mid year population')\n",
    "\n",
    "plt.subplot(2,2,2)\n",
    "plt.plot(popi['year'], popi['births_per_year'], marker='x')\n",
    "plt.xlabel('Year')\n",
    "plt.ylabel('Births per year')\n",
    "\n",
    "plt.subplot(2,2,3)\n",
    "plt.plot(popi['year'], popi['deaths_per_year'], marker='x')\n",
    "plt.xlabel('Year')\n",
    "plt.ylabel('Deaths per year')\n",
    "\n",
    "plt.subplot(2,2,4)\n",
    "plt.plot(popi['year'], popi['natural_change_per_year'], marker='x')\n",
    "plt.xlabel('Year')\n",
    "plt.ylabel('Natural change year population')\n",
    "\n",
    "\n",
    "plt.tight_layout()\n",
    "plt.show()"
   ]
  },
  {
   "cell_type": "code",
   "execution_count": 38,
   "id": "ed8f26ec",
   "metadata": {},
   "outputs": [
    {
     "data": {
      "image/png": "[encoded data removed]",
      "text/plain": [
       "<Figure size 432x288 with 1 Axes>"
      ]
     },
     "metadata": {
      "needs_background": "light"
     },
     "output_type": "display_data"
    }
   ],
   "source": [
    "# use 'popi' from Q#28\n",
    "# 1- \n",
    "# create one overlay plot for:\n",
    "# line plot: (x-axis) 'year' vs. (y-axis) 'deaths_per_year'\n",
    "# line plot: (x-axis) 'year' vs. (y-axis) 'births_per_year'\n",
    "\n",
    "# 2-\n",
    "# draw a vertical line at Year 2000 and 2020\n",
    "# Hint: plt.axvline(x=2000, ymin=0, ymax=3.0e7, color='red', linestyle='--')\n",
    "\n",
    "# 3-\n",
    "# Comment on what you observe in the plot\n",
    "\n",
    "# --- \n",
    "plt.plot(popi['year'], popi['births_per_year'], marker='x', label='births')\n",
    "plt.plot(popi['year'], popi['deaths_per_year'], marker='x', label='deaths')\n",
    "plt.axvline(x=2000, ymin=0, ymax=3.0e7, color='red', linestyle='--')\n",
    "plt.axvline(x=2020, ymin=0, ymax=3.0e7, color='green', linestyle='--')\n",
    "plt.xlabel('Year')\n",
    "plt.ylabel('Count per year')\n",
    "plt.legend()\n",
    "plt.show()\n"
   ]
  },
  {
   "cell_type": "code",
   "execution_count": 39,
   "id": "8093b165",
   "metadata": {
    "scrolled": true
   },
   "outputs": [
    {
     "name": "stdout",
     "output_type": "stream",
     "text": [
      "sum_diff_birth_rate: 0\n",
      "sum_diff_death_rate: 0\n",
      "sum_diff_natural_change: 0\n"
     ]
    }
   ],
   "source": [
    "# use 'popi' from Q#28\n",
    "# 0- \n",
    "#- create of copy of 'popi' and save in 'dfx' \n",
    "#- drop columns 'total_fertility_rate', 'infant_mortality__per_1000', 'life_expectancy'\n",
    "# Hint: dfx.loc[:,~dfx.columns.isin(['total_fertility_rate', ....])]\n",
    "# note that that '~' sign negates the output of dfx.columns.isin() \n",
    "\n",
    "# 1- Now use 'dfx' Calculate:\n",
    "# - births per 1000 people in a year; save in a new column 'calc_birth_rate_per_1000'  \n",
    "# - deaths per 1000 people in a year; save in a new column 'calc_deaths_rate_per_1000' \n",
    "# - natural change per 1000 people in a year; save in a new column 'calc_natural_change_per_1000' \n",
    "# - round all above calculated percentages in columns to just one decimal place\n",
    "# Hint: Calculate percentages based on 'mid_year_population'\n",
    "\n",
    "# 2-\n",
    "# - calculate difference between\n",
    "# - 'calc_birth_rate_per_1000' and 'crude_birth_rate__per_1000' --> save in col 'diff_birth_rate'\n",
    "# - 'calc_death_rate_per_1000' and 'crude_death_rate__per_1000' --> save in col 'diff_death_rate'\n",
    "# - 'calc_natural_change_per_1000' and 'natural_change__per_1000' --> save in col 'diff_natural_change'\n",
    "\n",
    "\n",
    "# 3-\n",
    "# calculate the sum of columns \n",
    "# - 'diff_birth_rate' as 'sum_diff_birth_rate'\n",
    "# - 'diff_death_rate' as 'sum_diff_death_rate'\n",
    "# - 'diff_natural_change' as 'sum_diff_natural_change'\n",
    "# - round the sum to zero decimal places\n",
    "# print output\n",
    "\n",
    "# 4- \n",
    "# - Comment on the sum calculated in #3. What do you observe\n",
    "\n",
    "# --- \n",
    "\n",
    "# 0- \n",
    "dfx = popi.copy()\n",
    "dfx = dfx.loc[:,~dfx.columns.isin(['total_fertility_rate', 'infant_mortality__per_1000', 'life_expectancy'])]\n",
    "#dfx.head(3)\n",
    "\n",
    "# 1- Now use 'dfx' Calculate:\n",
    "dfx['calc_birth_rate_per_1000'] = ((1000*dfx['births_per_year'])/dfx['mid_year_population']).round(1)\n",
    "dfx['calc_death_rate_per_1000'] = ((1000*dfx['deaths_per_year'])/dfx['mid_year_population']).round(1)\n",
    "dfx['calc_natural_change_per_1000'] = ((1000*dfx['natural_change_per_year'])/dfx['mid_year_population']).round(1)\n",
    "\n",
    "# 2-\n",
    "# - calculate difference between\n",
    "# - 'calc_birth_rate_per_1000' and 'crude_birth_rate__per_1000' --> save in col 'diff_birth_rate'\n",
    "# - 'calc_death_rate_per_1000' and 'crude_death_rate__per_1000' --> save in col 'diff_death_rate'\n",
    "# - 'calc_natural_change_per_1000' and 'natural_change__per_1000' --> save in col 'diff_natural_change_rate'\n",
    "dfx['diff_birth_rate'] = dfx['calc_birth_rate_per_1000'] - dfx['crude_birth_rate__per_1000']\n",
    "dfx['diff_death_rate'] = dfx['calc_death_rate_per_1000'] - dfx['crude_death_rate__per_1000']\n",
    "dfx['diff_natural_change'] = dfx['calc_natural_change_per_1000'] - dfx['natural_change__per_1000']\n",
    "\n",
    "# 3-\n",
    "sum_diff_birth_rate = round(dfx['diff_birth_rate'].sum())\n",
    "sum_diff_death_rate = round(dfx['diff_death_rate'].sum())\n",
    "sum_diff_natural_change = round(dfx['diff_natural_change'].sum())\n",
    "\n",
    "print(\"sum_diff_birth_rate:\", sum_diff_birth_rate)\n",
    "print(\"sum_diff_death_rate:\", sum_diff_death_rate)\n",
    "print(\"sum_diff_natural_change:\", sum_diff_natural_change)\n",
    "\n"
   ]
  },
  {
   "cell_type": "code",
   "execution_count": 40,
   "id": "154eee07",
   "metadata": {},
   "outputs": [
    {
     "name": "stdout",
     "output_type": "stream",
     "text": [
      "sum_diff_change = 3000\n",
      "sum_diff_change_rate = 0\n"
     ]
    }
   ],
   "source": [
    "# use 'popi' from Q#28\n",
    "# 1- \n",
    "# - create of copy of 'popi' and save in 'dfy' \n",
    "\n",
    "# 2-\n",
    "# - Comment if it is it possible to calculate the values in the columns \n",
    "# 'natural_change_per_year' and 'natural_change__per_1000'\n",
    "# based on other columns in the dataframe\n",
    "#\n",
    "# - If no, why not?\n",
    "\n",
    "# 3- If yes, calculate \n",
    "# - values in 'natural_change_per_year' and save in column 'new_natural_change_per_year'\n",
    "# - values in 'natural_change__per_1000' and save in column 'new_natural_change__per_1000'\n",
    "\n",
    "# 4-\n",
    "# - calculate difference between\n",
    "# - 'new_natural_change_per_year' and 'natural_change_per_year' --> save in col 'diff_change'\n",
    "# - 'new_natural_change__per_1000' and 'natural_change__per_1000' --> save in col 'diff_change_rate'\n",
    "\n",
    "\n",
    "# 5-\n",
    "# calculate the sum of columns \n",
    "# - 'diff_change' as 'sum_diff_change'\n",
    "# - 'diff_change_rate' as 'sum_diff_change_rate'\n",
    "# - round the sum to zero decimal places\n",
    "# print output\n",
    "\n",
    "# 6- \n",
    "# - Comment on the sum calculated in #3. What do you observe\n",
    "\n",
    "# --- \n",
    "\n",
    "# 1- \n",
    "dfy = popi.copy()\n",
    "\n",
    "# 2-\n",
    "# Comment: Yes it is possible\n",
    "\n",
    "# 3-\n",
    "dfy['new_natural_change_per_year'] = dfy['births_per_year'] - dfy['deaths_per_year']\n",
    "dfy['new_natural_change__per_1000'] = dfy['crude_birth_rate__per_1000'] - dfy['crude_death_rate__per_1000']\n",
    "\n",
    "# 4-\n",
    "# - calculate difference between\n",
    "# - 'new_natural_change_per_year' and 'natural_change_per_year' --> save in col 'diff_change'\n",
    "# - 'new_natural_change__per_1000' and 'natural_change__per_1000' --> save in col 'diff_change_rate'\n",
    "dfy['diff_change'] = dfy['new_natural_change_per_year'] - dfy['natural_change_per_year']\n",
    "dfy['diff_change_rate'] = dfy['new_natural_change__per_1000'] - dfy['natural_change__per_1000']\n",
    "\n",
    "# 5-\n",
    "sum_diff_change = round(dfy['diff_change'].sum())\n",
    "sum_diff_change_rate = round(dfy['diff_change_rate'].sum())\n",
    "\n",
    "print(\"sum_diff_change =\", sum_diff_change)\n",
    "print(\"sum_diff_change_rate =\", sum_diff_change_rate)\n",
    "\n",
    "\n"
   ]
  },
  {
   "cell_type": "code",
   "execution_count": 46,
   "id": "bfd4b1fc",
   "metadata": {},
   "outputs": [
    {
     "data": {
      "image/png": "[encoded data removed]",
      "text/plain": [
       "<Figure size 432x288 with 1 Axes>"
      ]
     },
     "metadata": {
      "needs_background": "light"
     },
     "output_type": "display_data"
    },
    {
     "data": {
      "image/png": "[encoded data removed]",
      "text/plain": [
       "<Figure size 432x288 with 1 Axes>"
      ]
     },
     "metadata": {
      "needs_background": "light"
     },
     "output_type": "display_data"
    },
    {
     "data": {
      "image/png": "[encoded data removed]",
      "text/plain": [
       "<Figure size 432x288 with 1 Axes>"
      ]
     },
     "metadata": {
      "needs_background": "light"
     },
     "output_type": "display_data"
    }
   ],
   "source": [
    "# use 'popi' from Q#28\n",
    "# Note: Create plots to visualize data for interpretation\n",
    " \n",
    "# 1- \n",
    "# - line plot: (x-axis) 'year' vs. (y-axis) 'total_fertility_rate'\n",
    "# - make sure that the y-axis starts at zero\n",
    "# - What do you observe in the plot? Comment\n",
    "# - Is the fertility rate increasing or decreasing or is the same over the years?\n",
    "\n",
    "\n",
    "# 2- create\n",
    "# - line plot: (x-axis) 'year' vs. (y-axis) 'total_fertility_rate'\n",
    "# - line plot: (x-axis) 'year' vs. (y-axis) 'crude_birth_rate__per_1000'\n",
    "# - line plot: (x-axis) 'year' vs. (y-axis) 'crude_death_rate__per_1000'\n",
    "# - line plot: (x-axis) 'year' vs. (y-axis) 'life_expectancy'\n",
    "# Comment: What do you observe?\n",
    "\n",
    "\n",
    "# 3A- create\n",
    "# create a dataframe df_temp with columns: 'variable', 'mean_rate', 'std_rate'\n",
    "# variable --> has names ['total_fertility_rate','crude_birth_rate__per_1000', 'crude_death_rate__per_1000']\n",
    "# mean_rate --> has mean values for each\n",
    "# sd_rate --> has standard deviation (SD) values for each\n",
    "\n",
    "# 3B-\n",
    "# Then, rename values in column 'variable' as below:\n",
    "# 'total_fertility_rate' --> 'fertility'\n",
    "# 'crude_birth_rate__per_1000' --> 'birth'\n",
    "# 'crude_death_rate__per_1000' --> 'death'\n",
    "# Hint: nested np.where()\n",
    "\n",
    "# 3C-\n",
    "# Then use df_temp to create a bar plot: \n",
    "# (x-axis): 'total_fertility_rate', 'crude_birth_rate__per_1000', 'crude_death_rate__per_1000'\n",
    "# (y-axis): mean\n",
    "# (error bars): standard deviation\n",
    "# Hint-1: \n",
    "# mean --> popi['total_fertility_rate'].mean()\n",
    "# standard deviation --> popi['total_fertility_rate'].std()\n",
    "#\n",
    "# Hint-2: plt.errorbar(x=df_temp['variable'], y=df_temp['mean_rate'], \n",
    "#             yerr=df_temp['sd_rate'], \n",
    "#             linestyle='', capsize=5, ecolor='red')\n",
    "#\n",
    "# Comment: What do you observe?\n",
    "\n",
    "\n",
    "# --- \n",
    "\n",
    "# 1-\n",
    "plt.plot(popi['year'], popi['total_fertility_rate'], marker='x')\n",
    "plt.ylim(0,7)\n",
    "plt.xlabel('Year')\n",
    "plt.ylabel('Total fertility rate')\n",
    "plt.show()\n",
    "\n",
    "# 2-\n",
    "plt.plot(popi['year'], popi['total_fertility_rate'], marker='x', label='fertility')\n",
    "plt.plot(popi['year'], popi['crude_birth_rate__per_1000'], marker='x', label='birth')\n",
    "plt.plot(popi['year'], popi['crude_death_rate__per_1000'], marker='x', label='death')\n",
    "plt.plot(popi['year'], popi['life_expectancy'], marker='x', label='life_exp')\n",
    "\n",
    "#plt.ylim(0,7)\n",
    "plt.legend()\n",
    "plt.title('Population')\n",
    "plt.xlabel('Year')\n",
    "plt.ylabel('Rate')\n",
    "plt.show()\n",
    "\n",
    "\n",
    "# 3-\n",
    "# create DataFrame\n",
    "mean_fr = popi['total_fertility_rate'].mean()\n",
    "mean_br = popi['crude_birth_rate__per_1000'].mean()\n",
    "mean_dr = popi['crude_death_rate__per_1000'].mean()\n",
    "\n",
    "sd_fr = popi['total_fertility_rate'].std()\n",
    "sd_br = popi['crude_birth_rate__per_1000'].std()\n",
    "sd_dr = popi['crude_death_rate__per_1000'].std()\n",
    "\n",
    "\n",
    "df_temp = pd.DataFrame({\n",
    "    'variable': ['total_fertility_rate','crude_birth_rate__per_1000', 'crude_death_rate__per_1000'],\n",
    "    'mean_rate': [mean_fr, mean_br, mean_dr],\n",
    "    'sd_rate': [sd_fr, sd_br, sd_dr]\n",
    "})\n",
    "df_temp\n",
    "\n",
    "df_temp['variable'] = np.where(df_temp['variable']=='total_fertility_rate', 'fertility',\n",
    "                            np.where(df_temp['variable']=='crude_birth_rate__per_1000', 'birth','death'\n",
    "                              ))\n",
    "\n",
    "# Plot\n",
    "plt.bar(df_temp['variable'], df_temp['mean_rate'])\n",
    "plt.errorbar(x=df_temp['variable'], y=df_temp['mean_rate'], \n",
    "             yerr=df_temp['sd_rate'], \n",
    "             linestyle='', capsize=5, ecolor='red')\n",
    "plt.ylabel('Rate')\n",
    "plt.show()\n"
   ]
  },
  {
   "cell_type": "code",
   "execution_count": 43,
   "id": "d76fbe52",
   "metadata": {},
   "outputs": [
    {
     "data": {
      "image/png": "[encoded data removed]",
      "text/plain": [
       "<Figure size 1080x360 with 3 Axes>"
      ]
     },
     "metadata": {
      "needs_background": "light"
     },
     "output_type": "display_data"
    }
   ],
   "source": [
    "# use 'popi' from Q#28\n",
    "# Note: Create plots to visualize data for interpretation\n",
    " \n",
    "# 1- \n",
    "# Create three scatter subplots:\n",
    "# - (x-axis) total_fertility_rate' vs. (y-axis) 'total_fertility_rate'\n",
    "# - (x-axis) total_fertility_rate' vs. (y-axis) 'crude_birth_rate__per_1000'\n",
    "# - (x-axis) total_fertility_rate' vs. (y-axis) 'crude_death_rate__per_1000'\n",
    "# - Make sure that both x-axis and y-axis start at zero --> plt.xlim(); plt.ylim()\n",
    "# Hint: plt.scatter(popi['total_fertility_rate'], popi['total_fertility_rate'], alpha=0.5)\n",
    "\n",
    "# Comment: What does each plot tell us? For example, as fertility rate increases, \n",
    "# what happens to values on y-axis? Do they increase or decrease?\n",
    "\n",
    "\n",
    "# --- write code below this line ---\n",
    "\n",
    "plt.figure(figsize=(15,5))\n",
    "plt.subplot(1,3,1)\n",
    "plt.scatter(popi['total_fertility_rate'], popi['total_fertility_rate'], alpha=0.5)\n",
    "plt.xlabel('Fertility rate')\n",
    "plt.ylabel('Fertility rate')\n",
    "plt.xlim(0,7)\n",
    "plt.ylim(0,7)\n",
    "\n",
    "plt.subplot(1,3,2)\n",
    "plt.scatter(popi['total_fertility_rate'], popi['crude_birth_rate__per_1000'], alpha=0.5)\n",
    "plt.xlabel('Fertility rate')\n",
    "plt.ylabel('Birth rate')\n",
    "plt.xlim(0,7)\n",
    "plt.ylim(0,45)\n",
    "\n",
    "plt.subplot(1,3,3)\n",
    "plt.scatter(popi['total_fertility_rate'], popi['crude_death_rate__per_1000'], alpha=0.5)\n",
    "plt.xlabel('Fertility rate')\n",
    "plt.ylabel('Death rate')\n",
    "plt.xlim(0,7)\n",
    "plt.ylim(0,24)\n",
    "\n",
    "plt.show()"
   ]
  },
  {
   "cell_type": "code",
   "execution_count": 44,
   "id": "830e9c85",
   "metadata": {},
   "outputs": [
    {
     "data": {
      "image/png": "[encoded data removed]",
      "text/plain": [
       "<Figure size 432x288 with 1 Axes>"
      ]
     },
     "metadata": {
      "needs_background": "light"
     },
     "output_type": "display_data"
    }
   ],
   "source": [
    "# use 'popi' from Q#28\n",
    "# Note: Create plots to visualize data for interpretation\n",
    " \n",
    "# 1- \n",
    "# Create an overlay plot:\n",
    "# - (x-axis) 'year' vs. (y-axis) 'infant_mortality__per_1000'\n",
    "# - (x-axis) 'year' vs. (y-axis) 'crude_death_rate__per_1000'\n",
    "\n",
    "# Comment: What do you observe?\n",
    "\n",
    "# --- \n",
    "\n",
    "plt.plot(popi['year'], popi['infant_mortality__per_1000'], marker='+')\n",
    "plt.plot(popi['year'], popi['crude_death_rate__per_1000'], marker='.')\n",
    "plt.show()"
   ]
  },
  {
   "cell_type": "code",
   "execution_count": 45,
   "id": "f1085a96",
   "metadata": {},
   "outputs": [
    {
     "name": "stdout",
     "output_type": "stream",
     "text": [
      "percent_change_population = 291%\n",
      "percent_change_birth = -62%\n",
      "percent_change_death = -67%\n",
      "percent_change_infant_mortality = -85%\n",
      "percent_change_life_expectancy = 68%\n"
     ]
    }
   ],
   "source": [
    "# use 'popi' from Q#28\n",
    "# Note: Create plots to visualize data for interpretation\n",
    " \n",
    "# Calculate percentage increase or decrease in:\n",
    "# 1- 'mid_year_population' from 1950 to 2020 as 'percent_change_population'\n",
    "# 2- 'crude_birth_rate__per_1000' from 1950 to 2020 as 'percent_change_birth'\n",
    "# 3- 'crude_death_rate__per_1000' from 1950 to 2020 as 'percent_change_death'\n",
    "# 4- 'infant_mortality__per_1000' from 1950 to 2020 as 'percent_change_infant_mortality'\n",
    "# 5- 'life_expectancy' from 1950 to 2020 as 'percent_change_life_expectancy'\n",
    "# Note: All above as percent of values in 1950\n",
    "# Note: Round to zero decimal places\n",
    "\n",
    "# Comment: What do you see?\n",
    "\n",
    "# --- \n",
    "\n",
    "\n",
    "numerator = popi[popi['year']==2020]['mid_year_population'].values[0] - popi[popi['year']==1950]['mid_year_population'].values[0]\n",
    "denominator = popi[popi['year']==1950]['mid_year_population'].values[0]\n",
    "percent_change_population = round(100*numerator/denominator)\n",
    "print('percent_change_population = {}%'.format(percent_change_population))\n",
    "\n",
    "\n",
    "numerator = popi[popi['year']==2020]['crude_birth_rate__per_1000'].values[0] - popi[popi['year']==1950]['crude_birth_rate__per_1000'].values[0]\n",
    "denominator = popi[popi['year']==1950]['crude_birth_rate__per_1000'].values[0]\n",
    "percent_change_birth = round(100*numerator/denominator)\n",
    "print('percent_change_birth = {}%'.format(percent_change_birth))\n",
    "\n",
    "numerator = popi[popi['year']==2020]['crude_death_rate__per_1000'].values[0] - popi[popi['year']==1950]['crude_death_rate__per_1000'].values[0]\n",
    "denominator = popi[popi['year']==1950]['crude_death_rate__per_1000'].values[0]\n",
    "percent_change_death = round(100*numerator/denominator)\n",
    "print('percent_change_death = {}%'.format(percent_change_death))\n",
    "\n",
    "numerator = popi[popi['year']==2020]['infant_mortality__per_1000'].values[0] - popi[popi['year']==1950]['infant_mortality__per_1000'].values[0]\n",
    "denominator = popi[popi['year']==1950]['infant_mortality__per_1000'].values[0]\n",
    "percent_change_infant_mortality = round(100*numerator/denominator)\n",
    "print('percent_change_infant_mortality = {}%'.format(percent_change_infant_mortality))\n",
    "\n",
    "numerator = popi[popi['year']==2020]['life_expectancy'].values[0] - popi[popi['year']==1950]['life_expectancy'].values[0]\n",
    "denominator = popi[popi['year']==1950]['life_expectancy'].values[0]\n",
    "percent_change_life_expectancy = round(100*numerator/denominator)\n",
    "print('percent_change_life_expectancy = {}%'.format(percent_change_life_expectancy))\n"
   ]
  },
  {
   "cell_type": "code",
   "execution_count": null,
   "id": "732b4007",
   "metadata": {},
   "outputs": [],
   "source": []
  },
  {
   "cell_type": "code",
   "execution_count": null,
   "id": "1d9f9eba",
   "metadata": {},
   "outputs": [],
   "source": []
  }
 ],
 "metadata": {
  "kernelspec": {
   "display_name": "Python 3 (ipykernel)",
   "language": "python",
   "name": "python3"
  },
  "language_info": {
   "codemirror_mode": {
    "name": "ipython",
    "version": 3
   },
   "file_extension": ".py",
   "mimetype": "text/x-python",
   "name": "python",
   "nbconvert_exporter": "python",
   "pygments_lexer": "ipython3",
   "version": "3.9.13"
  }
 },
 "nbformat": 4,
 "nbformat_minor": 5
}
